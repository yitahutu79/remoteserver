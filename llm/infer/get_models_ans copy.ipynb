{
 "cells": [
  {
   "cell_type": "markdown",
   "metadata": {},
   "source": [
    "### 推理\n",
    "若有需要推理的模型，则继续运行下面的代码"
   ]
  },
  {
   "cell_type": "code",
   "execution_count": 1,
   "metadata": {},
   "outputs": [
    {
     "data": {
      "text/html": [
       "<div>\n",
       "<style scoped>\n",
       "    .dataframe tbody tr th:only-of-type {\n",
       "        vertical-align: middle;\n",
       "    }\n",
       "\n",
       "    .dataframe tbody tr th {\n",
       "        vertical-align: top;\n",
       "    }\n",
       "\n",
       "    .dataframe thead th {\n",
       "        text-align: right;\n",
       "    }\n",
       "</style>\n",
       "<table border=\"1\" class=\"dataframe\">\n",
       "  <thead>\n",
       "    <tr style=\"text-align: right;\">\n",
       "      <th></th>\n",
       "      <th>q</th>\n",
       "      <th>que</th>\n",
       "      <th>kb_ids</th>\n",
       "      <th>new_refer</th>\n",
       "      <th>actual_send_answer</th>\n",
       "      <th>qwl02-cleaned-base</th>\n",
       "      <th>qwl02-cleaned-base-gpt35</th>\n",
       "      <th>qwl02-cleaned-chat</th>\n",
       "      <th>qwl02-cleaned-chat-gpt35</th>\n",
       "      <th>qwl02-cleaneddoc3</th>\n",
       "      <th>...</th>\n",
       "      <th>yil02-cleandoc-base</th>\n",
       "      <th>yil02-cleandoc-Chat-34B</th>\n",
       "      <th>yil02-cleandoc-Chat-34B_gpt35</th>\n",
       "      <th>qwl02</th>\n",
       "      <th>qwl02_gpt35</th>\n",
       "      <th>qwl02-cleaneddoc8-32b-base</th>\n",
       "      <th>qwl02-cleaneddoc8-32b-base_gpt35</th>\n",
       "      <th>qwl02-cleaneddoc8-32b-base-new</th>\n",
       "      <th>qwl02-cleaneddoc13-32b-base</th>\n",
       "      <th>qwl02-cleaneddoc18-32b-base</th>\n",
       "    </tr>\n",
       "  </thead>\n",
       "  <tbody>\n",
       "    <tr>\n",
       "      <th>0</th>\n",
       "      <td>一包肠依做多少肉</td>\n",
       "      <td>[{\"role\":\"assistant\",\"content\":\"很高兴为您服务,请问有什么可...</td>\n",
       "      <td>22, 23</td>\n",
       "      <td>['问题：\"一包肠衣灌几斤肉啊\",答案：\"亲,5斤一包肠衣可以灌5斤左右肉,10斤装的可以灌...</td>\n",
       "      <td>猪肠衣五斤一包4-5米左右,口径3.8-4.0左右,灌大约4斤肉 10斤一包8-10米左右,...</td>\n",
       "      <td>亲，猪肠衣五斤一包4-5米左右，口径3.8-4.0左右，灌大约4斤肉；10斤一包8-10米左...</td>\n",
       "      <td>1</td>\n",
       "      <td>亲，5斤一包肠衣可以灌5斤左右肉，10斤装的可以灌8-10斤肉，根据个人手法会有所不同哦。</td>\n",
       "      <td>1</td>\n",
       "      <td>亲,5斤一包肠衣可以灌5斤左右肉,10斤装的可以灌8-10斤肉,根据个人手法会有所不同哦。</td>\n",
       "      <td>...</td>\n",
       "      <td>亲，一包肠衣口径10斤左右，口径3.8-4.0左右，灌大约8-10斤肉。根据个人手法，会有误...</td>\n",
       "      <td>猪肠衣五斤一包4-5米左右，口径3.8-4.0左右，灌大约4斤肉；10斤一包8-10米左右，...</td>\n",
       "      <td>1</td>\n",
       "      <td>亲，5斤一包肠衣可以灌5斤左右肉，10斤装的可以灌8-10斤肉，根据个人手法会有所不同哦。</td>\n",
       "      <td>1</td>\n",
       "      <td>亲，5斤一包肠衣可以灌5斤左右肉，10斤装的可以灌8-10斤肉，根据个人手法会有所不同哦。</td>\n",
       "      <td>1</td>\n",
       "      <td>猪肠衣五斤一包4-5米左右，口径3.8-4.0左右，灌大约4斤肉 10斤一包8-10米左右，...</td>\n",
       "      <td>亲，5斤一包肠衣可以灌5斤左右肉，10斤装的可以灌8-10斤肉，根据个人手法会有所不同哦。</td>\n",
       "      <td>亲，5斤一包肠衣可以灌5斤左右肉,10斤装的可以灌8-10斤肉,根据个人手法会有所不同哦。</td>\n",
       "    </tr>\n",
       "  </tbody>\n",
       "</table>\n",
       "<p>1 rows × 27 columns</p>\n",
       "</div>"
      ],
      "text/plain": [
       "          q                                                que  kb_ids  \\\n",
       "0  一包肠依做多少肉  [{\"role\":\"assistant\",\"content\":\"很高兴为您服务,请问有什么可...  22, 23   \n",
       "\n",
       "                                           new_refer  \\\n",
       "0  ['问题：\"一包肠衣灌几斤肉啊\",答案：\"亲,5斤一包肠衣可以灌5斤左右肉,10斤装的可以灌...   \n",
       "\n",
       "                                  actual_send_answer  \\\n",
       "0  猪肠衣五斤一包4-5米左右,口径3.8-4.0左右,灌大约4斤肉 10斤一包8-10米左右,...   \n",
       "\n",
       "                                  qwl02-cleaned-base  \\\n",
       "0  亲，猪肠衣五斤一包4-5米左右，口径3.8-4.0左右，灌大约4斤肉；10斤一包8-10米左...   \n",
       "\n",
       "   qwl02-cleaned-base-gpt35                             qwl02-cleaned-chat  \\\n",
       "0                         1  亲，5斤一包肠衣可以灌5斤左右肉，10斤装的可以灌8-10斤肉，根据个人手法会有所不同哦。   \n",
       "\n",
       "   qwl02-cleaned-chat-gpt35                              qwl02-cleaneddoc3  \\\n",
       "0                         1  亲,5斤一包肠衣可以灌5斤左右肉,10斤装的可以灌8-10斤肉,根据个人手法会有所不同哦。   \n",
       "\n",
       "   ...                                yil02-cleandoc-base  \\\n",
       "0  ...  亲，一包肠衣口径10斤左右，口径3.8-4.0左右，灌大约8-10斤肉。根据个人手法，会有误...   \n",
       "\n",
       "                             yil02-cleandoc-Chat-34B  \\\n",
       "0  猪肠衣五斤一包4-5米左右，口径3.8-4.0左右，灌大约4斤肉；10斤一包8-10米左右，...   \n",
       "\n",
       "   yil02-cleandoc-Chat-34B_gpt35  \\\n",
       "0                              1   \n",
       "\n",
       "                                           qwl02  qwl02_gpt35  \\\n",
       "0  亲，5斤一包肠衣可以灌5斤左右肉，10斤装的可以灌8-10斤肉，根据个人手法会有所不同哦。            1   \n",
       "\n",
       "                      qwl02-cleaneddoc8-32b-base  \\\n",
       "0  亲，5斤一包肠衣可以灌5斤左右肉，10斤装的可以灌8-10斤肉，根据个人手法会有所不同哦。   \n",
       "\n",
       "   qwl02-cleaneddoc8-32b-base_gpt35  \\\n",
       "0                                 1   \n",
       "\n",
       "                      qwl02-cleaneddoc8-32b-base-new  \\\n",
       "0  猪肠衣五斤一包4-5米左右，口径3.8-4.0左右，灌大约4斤肉 10斤一包8-10米左右，...   \n",
       "\n",
       "                     qwl02-cleaneddoc13-32b-base  \\\n",
       "0  亲，5斤一包肠衣可以灌5斤左右肉，10斤装的可以灌8-10斤肉，根据个人手法会有所不同哦。   \n",
       "\n",
       "                     qwl02-cleaneddoc18-32b-base  \n",
       "0  亲，5斤一包肠衣可以灌5斤左右肉,10斤装的可以灌8-10斤肉,根据个人手法会有所不同哦。  \n",
       "\n",
       "[1 rows x 27 columns]"
      ]
     },
     "execution_count": 1,
     "metadata": {},
     "output_type": "execute_result"
    }
   ],
   "source": [
    "# 若是一路运行下来的，这个框不用运行\n",
    "import pandas as pd\n",
    "from tqdm import tqdm\n",
    "import json\n",
    "datapath = '/data/lj/llm/dataset/iter4/iter4-clean.csv'\n",
    "infered_data = pd.read_csv(datapath)\n",
    "infered_data.head(1)"
   ]
  },
  {
   "cell_type": "code",
   "execution_count": 2,
   "metadata": {},
   "outputs": [
    {
     "name": "stderr",
     "output_type": "stream",
     "text": [
      "400it [00:00, 5105.09it/s]\n",
      "400it [00:00, 286300.61it/s]\n",
      "100it [00:00, 20909.84it/s]\n"
     ]
    },
    {
     "data": {
      "text/plain": [
       "{'instruction': '你是一名电商人工客服，请用礼貌、专业的态度回答用户的问题，请务必使用中文回答。必要时请参考对话记录。\\n以下是供你参考的已知信息：\\n1. 问题：\"一包肠衣灌几斤肉啊\",答案：\"亲,5斤一包肠衣可以灌5斤左右肉,10斤装的可以灌8-10斤肉,根据个人手法会有所不同哦。\"\\n2. 问题：\"一袋肠衣能做几斤肉\",答案：\"猪肠衣五斤一包4-5米左右,口径3.8-4.0左右,灌大约4斤肉 10斤一包8-10米左右,口径3.8-4.0左右,灌大约8-10斤肉。\"\\n3. 问题：\"100g肠衣能灌多少肉\",答案：\"亲 不清楚哦\"\\n4. 问题：\"一包猪肠子适合几斤肉？\",答案：\"猪肠衣五斤一包4-5米左右,口径3.8-4.0左右,灌大约4斤肉 10斤一包8-10米左右,口径3.8-4.0左右,灌大约8-10斤肉。\"\\n5. 问题：\"这一包肠衣可以灌多少斤肉？\",答案：\"猪肠衣五斤一包4-5米左右,口径3.8-4.0左右,灌大约4斤肉 10斤一包8-10米左右,口径3.8-4.0左右,灌大约8-10斤肉。\"\\n上述的已知信息可能与用户的问题无关，你需要根据用户的具体需求选择性的参考。\\n另外你要避免向客户做出承诺，如优惠、物流时间等\\n\\n你要回复的问题是：',\n",
       " 'output': '猪肠衣五斤一包4-5米左右,口径3.8-4.0左右,灌大约4斤肉 10斤一包8-10米左右,口径3.8-4.0左右,灌大约8-10斤肉。',\n",
       " 'history': [['assistant: 很高兴为您服务,请问有什么可以帮您？']],\n",
       " 'input': '一包肠依做多少肉'}"
      ]
     },
     "execution_count": 2,
     "metadata": {},
     "output_type": "execute_result"
    }
   ],
   "source": [
    "def process_data(df):\n",
    "    \"\"\"\n",
    "    csv 多列 -> json 一条一条数据的格式\n",
    "    数据梳理为可以直接让模型推理的格式\n",
    "    \"\"\"\n",
    "    INSTRUCTION = (\"你是一名电商人工客服，请用礼貌、专业的态度回答用户的问题，请务必使用中文回答。必要时请参考对话记录。\\n\"\n",
    "               \"以下是供你参考的已知信息：\\n{KNOWLEDGE}\\n\"\n",
    "               \"上述的已知信息可能与用户的问题无关，你需要根据用户的具体需求选择性的参考。\\n\"\n",
    "               \"另外你要避免向客户做出承诺，如优惠、物流时间等\\n\\n\"\n",
    "               \"你要回复的问题是：\")\n",
    "    querys = []\n",
    "    answers = []\n",
    "    historys = []\n",
    "    knowledge = []\n",
    "    \n",
    "    df_shop = df[:400]  # 200   200\n",
    "    df_doc = df[400:] # 100 pub-doc\n",
    "\n",
    "    # 店铺数据测试集\n",
    "    for index, row in tqdm(df_shop.iterrows()):\n",
    "        if len(eval(row['que'])) > 0:\n",
    "            query = eval(row['que'])[-1]['content'].strip()\n",
    "            querys.append(eval(row['que'])[-1])\n",
    "        else:\n",
    "        # 处理列表为空的情况，例如设置一个默认值或者跳过这一行\n",
    "            query = None\n",
    "        history = eval(row['que'])[:-1]\n",
    "        if history:\n",
    "            temp = [history[0].copy()]\n",
    "            for i, record in enumerate(history[1:]):\n",
    "                if record[\"role\"] == temp[-1][\"role\"]:\n",
    "                    temp[-1][\"content\"] += '\\n' + record[\"content\"]\n",
    "                else:\n",
    "                    temp.append(record.copy())\n",
    "        else:\n",
    "            temp = ''\n",
    "        historys.append(temp)\n",
    "        answers.append(str(row['actual_send_answer']))\n",
    "        # print(row['refer_content'])\n",
    "        kg = json.loads(row['new_refer'].replace('\\\"', '\\\\\\\"').replace('\\'', '\\\"'))\n",
    "        kg = kg[:6]\n",
    "        knowledge.append(\"\\n\".join([f\"{i+1}. {qa}\" for i, qa in enumerate(kg)]))\n",
    "    assert len(historys) == len(querys) == len(answers)\n",
    "    eval_data = []\n",
    "    for history,query,answer,kg in tqdm(zip(historys,querys,answers,knowledge)):\n",
    "        eval_data.append({\n",
    "            \"instruction\":INSTRUCTION.format_map({\"KNOWLEDGE\": kg}),\n",
    "            \"output\":answer,\n",
    "            \"history\":[[x['role']+': '+ x['content'] for x in history]],\n",
    "            \"input\":query['content']\n",
    "        })\n",
    "\n",
    "     # 通用docqa测试集\n",
    "    for index, row in tqdm(df_doc.iterrows()):\n",
    "        eval_data.append({\n",
    "            \"instruction\":row['new_refer'],\n",
    "            \"output\":row['actual_send_answer'],\n",
    "            \"history\":row['que'],\n",
    "            \"input\":row['q']\n",
    "        })\n",
    "        \n",
    "    return eval_data\n",
    "# 列数据优化为可直接进行推理格式\n",
    "infer_data = process_data(infered_data)\n",
    "infer_data[0]"
   ]
  },
  {
   "cell_type": "code",
   "execution_count": 4,
   "metadata": {},
   "outputs": [
    {
     "name": "stderr",
     "output_type": "stream",
     "text": [
      "Special tokens have been added in the vocabulary, make sure the associated word embeddings are fine-tuned or trained.\n",
      "Special tokens have been added in the vocabulary, make sure the associated word embeddings are fine-tuned or trained.\n",
      "Loading checkpoint shards: 100%|██████████| 12/12 [00:34<00:00,  2.86s/it]\n",
      "  2%|▏         | 1/50 [00:05<04:22,  5.35s/it]"
     ]
    },
    {
     "name": "stdout",
     "output_type": "stream",
     "text": [
      "query: 一包肠依做多少肉 ai: 亲，5斤一包肠衣可以灌5斤左右肉，10斤装的可以灌8-10斤肉，根据个人手法会有所不同哦。 lable: 猪肠衣五斤一包4-5米左右,口径3.8-4.0左右,灌大约4斤肉 10斤一包8-10米左右,口径3.8-4.0左右,灌大约8-10斤肉。\n"
     ]
    },
    {
     "name": "stderr",
     "output_type": "stream",
     "text": [
      "  4%|▍         | 2/50 [00:09<03:29,  4.36s/it]"
     ]
    },
    {
     "name": "stdout",
     "output_type": "stream",
     "text": [
      "query: 好了不跟你计较可以多些都结了。 ai: 好的亲 lable: 你好 在的亲\n"
     ]
    },
    {
     "name": "stderr",
     "output_type": "stream",
     "text": [
      "  6%|▌         | 3/50 [00:11<02:51,  3.66s/it]"
     ]
    },
    {
     "name": "stdout",
     "output_type": "stream",
     "text": [
      "query: 还不发 ai: 亲亲,已经在陆续发货了,会尽快安排的哈 lable: 这边帮您催下\n"
     ]
    },
    {
     "name": "stderr",
     "output_type": "stream",
     "text": [
      "  8%|▊         | 4/50 [00:15<02:57,  3.85s/it]"
     ]
    },
    {
     "name": "stdout",
     "output_type": "stream",
     "text": [
      "query: 是一样一斤,还是两种搭配两斤 ai: 一样一斤亲 lable: 一样一斤亲\n"
     ]
    },
    {
     "name": "stderr",
     "output_type": "stream",
     "text": [
      " 10%|█         | 5/50 [00:19<02:46,  3.69s/it]"
     ]
    },
    {
     "name": "stdout",
     "output_type": "stream",
     "text": [
      "query: 等到什么时候一年么 ai: 亲 我们会尽快的哦 lable: 什么\n"
     ]
    },
    {
     "name": "stderr",
     "output_type": "stream",
     "text": [
      " 12%|█▏        | 6/50 [00:23<02:47,  3.82s/it]"
     ]
    },
    {
     "name": "stdout",
     "output_type": "stream",
     "text": [
      "query: 除了巧克力不要,其它的都要 ai: 亲下单以后联系我们备注哈 lable: 原味,草莓,抹茶,芒果,香芋,椰奶\n"
     ]
    },
    {
     "name": "stderr",
     "output_type": "stream",
     "text": [
      " 14%|█▍        | 7/50 [00:27<02:54,  4.05s/it]"
     ]
    },
    {
     "name": "stdout",
     "output_type": "stream",
     "text": [
      "query: 草莓,芒果,抹茶,香芋,我要这几种口味各两包 ai: 好的,已备注亲。 lable: 好的已备注亲\n"
     ]
    },
    {
     "name": "stderr",
     "output_type": "stream",
     "text": [
      " 16%|█▌        | 8/50 [00:32<02:58,  4.26s/it]"
     ]
    },
    {
     "name": "stdout",
     "output_type": "stream",
     "text": [
      "query: 泡开了直接放冰箱吗？ ai: 亲亲，自制烧仙草可以放冰箱冷藏保存2-3天,不过建议是吃多少煮多少,保存时间太长影响口感。 lable: 自制烧仙草可以放冰箱冷藏保存2-3天,不过建议是吃多少煮多少,保存时间太长影响口感。\n"
     ]
    },
    {
     "name": "stderr",
     "output_type": "stream",
     "text": [
      " 18%|█▊        | 9/50 [00:36<02:46,  4.07s/it]"
     ]
    },
    {
     "name": "stdout",
     "output_type": "stream",
     "text": [
      "query: 是熟山药粉吗？ ai: 对的 lable: 冲泡即食的亲\n"
     ]
    },
    {
     "name": "stderr",
     "output_type": "stream",
     "text": [
      " 20%|██        | 10/50 [00:40<02:40,  4.01s/it]"
     ]
    },
    {
     "name": "stdout",
     "output_type": "stream",
     "text": [
      "query: 我已拍芒果味的请给我搭配上抹茶味的 ai: 亲 已备注 lable: 亲 您拍的这个选项不支持指定备注\n"
     ]
    },
    {
     "name": "stderr",
     "output_type": "stream",
     "text": [
      " 22%|██▏       | 11/50 [00:43<02:30,  3.87s/it]"
     ]
    },
    {
     "name": "stdout",
     "output_type": "stream",
     "text": [
      "query: 为什么还让我拿5元呢 ai: 亲 这边帮您联系快递 lable: 亲 这个不清楚的哦\n"
     ]
    },
    {
     "name": "stderr",
     "output_type": "stream",
     "text": [
      " 24%|██▍       | 12/50 [00:46<02:18,  3.63s/it]"
     ]
    },
    {
     "name": "stdout",
     "output_type": "stream",
     "text": [
      "query: 好吃吗？ ai: 亲亲，我们的燕麦片是很好吃的哦~ lable: 亲亲,每个口味不一样,您可以先尝试一下哦。\n"
     ]
    },
    {
     "name": "stderr",
     "output_type": "stream",
     "text": [
      " 26%|██▌       | 13/50 [00:49<02:08,  3.46s/it]"
     ]
    },
    {
     "name": "stdout",
     "output_type": "stream",
     "text": [
      "query: 颜色不需要自己调是吧 ai: 是的 lable: 是的\n"
     ]
    },
    {
     "name": "stderr",
     "output_type": "stream",
     "text": [
      " 28%|██▊       | 14/50 [00:53<02:08,  3.57s/it]"
     ]
    },
    {
     "name": "stdout",
     "output_type": "stream",
     "text": [
      "query: 做完一直在冷藏放着吗,可以放几天 ai: 冰箱能储存3-5天,需要盖上保鲜膜冷藏储存,尽量新鲜食用,不宜长时间保存。 lable: 亲,做完后建议尽快食用哦\n"
     ]
    },
    {
     "name": "stderr",
     "output_type": "stream",
     "text": [
      " 30%|███       | 15/50 [00:58<02:19,  3.99s/it]"
     ]
    },
    {
     "name": "stdout",
     "output_type": "stream",
     "text": [
      "query: 点错了,怎么取消 ai: 亲，您可以在订单里取消哦~ lable: 亲,您可以在后台申请退款哦~\n"
     ]
    },
    {
     "name": "stderr",
     "output_type": "stream",
     "text": [
      " 32%|███▏      | 16/50 [01:02<02:10,  3.85s/it]"
     ]
    },
    {
     "name": "stdout",
     "output_type": "stream",
     "text": [
      "query: 年前买的肠衣怎么那么细,根本灌不上十斤肉,破损特别多 ai: 根据个人手法的亲 lable: 天然肠衣,不敢保证没有孔,因为是人工从猪肠子上剥离的,在剥离的过程中,难免会有破损的亲。\n"
     ]
    },
    {
     "name": "stderr",
     "output_type": "stream",
     "text": [
      " 34%|███▍      | 17/50 [01:07<02:16,  4.14s/it]"
     ]
    },
    {
     "name": "stdout",
     "output_type": "stream",
     "text": [
      "query: 两罐都是700g吗？ ai: 亲，一罐350g的亲 二罐是700g哦。 lable: 一罐350g的亲 二罐是700g\n"
     ]
    },
    {
     "name": "stderr",
     "output_type": "stream",
     "text": [
      " 36%|███▌      | 18/50 [01:12<02:29,  4.68s/it]"
     ]
    },
    {
     "name": "stdout",
     "output_type": "stream",
     "text": [
      "query: 你好这款肠衣灌完直接上锅蒸或煮都可以吗 ai: 灌好后系绳子扎孔,风干或者蒸煮,根据个人口感哦。 lable: 罐好后系绳子扎孔,风干或者蒸煮,根据个人口感哦\"。\n"
     ]
    },
    {
     "name": "stderr",
     "output_type": "stream",
     "text": [
      " 38%|███▊      | 19/50 [01:18<02:30,  4.85s/it]"
     ]
    },
    {
     "name": "stdout",
     "output_type": "stream",
     "text": [
      "query: 人工好评返现？ ai: 如果说看到有评价有礼活动,那可能是官方活动,不是本店活动,可以按步骤要求提交试一下哦 lable: 亲,本店都是薄利多销,没啥利润的,如果您签收以后还满意的话,麻烦给个五星好评鼓励一下哦。如果说看到有评价有礼活动,那可能是官方活动,不是本店活动,可以按照步骤要求提交试一下哦。\n"
     ]
    },
    {
     "name": "stderr",
     "output_type": "stream",
     "text": [
      " 40%|████      | 20/50 [01:27<03:09,  6.32s/it]"
     ]
    },
    {
     "name": "stdout",
     "output_type": "stream",
     "text": [
      "query: 这明显少的也太多了呀,人家一包里面至少有四五个,你这就两根肠子,你这不是欺骗消费者吗你？你这少的也太多了你量了一下,就两米多一点点,你那是大肠吗？能宽10斤肉 ai: 猪肠衣五斤一包4-5米左右,口径3.8-4.0左右,灌大约4斤肉 10斤一包8-10米左右,口径3.8-4.0左右,灌大约8-10斤肉。根据个人手法的亲 lable: 亲,肠衣灌肉的量确实因人而异哦,我们肠衣一包能灌10斤肉左右,具体灌多少肉还需要看个人手法哦。\n"
     ]
    },
    {
     "name": "stderr",
     "output_type": "stream",
     "text": [
      " 42%|████▏     | 21/50 [01:34<03:02,  6.29s/it]"
     ]
    },
    {
     "name": "stdout",
     "output_type": "stream",
     "text": [
      "query: 请问在你家买的肠衣,整包没用完的怎么存放 ai: 用水泡过的肠衣没用完可以用盐腌制起来 然后沥干水分 后食品袋包好放冰箱冷藏保鲜就可以了亲 没泡过的直接冷藏保鲜就可以。 lable: 亲,用水泡过的肠衣没用完可以用盐腌制起来,然后沥干水分,后食品袋包好放冰箱冷藏保鲜就可以了亲,没泡过的直接冷藏保鲜就可以。\n"
     ]
    },
    {
     "name": "stderr",
     "output_type": "stream",
     "text": [
      " 44%|████▍     | 22/50 [01:40<02:59,  6.40s/it]"
     ]
    },
    {
     "name": "stdout",
     "output_type": "stream",
     "text": [
      "query: 不是说40斤给送嘛,这个选项不是相当于买的吗？都在你家买好几回了 ai: 看选项哦亲,选项上面有写的就送,没有写的就不送哦 lable: 亲,只能看选项哦~\n"
     ]
    },
    {
     "name": "stderr",
     "output_type": "stream",
     "text": [
      " 46%|████▌     | 23/50 [01:46<02:43,  6.07s/it]"
     ]
    },
    {
     "name": "stdout",
     "output_type": "stream",
     "text": [
      "query: 是哪种包装呢？ ai: 新老包装随机发的哈 lable: 新老包装随机发的哈\n"
     ]
    },
    {
     "name": "stderr",
     "output_type": "stream",
     "text": [
      " 48%|████▊     | 24/50 [01:50<02:23,  5.53s/it]"
     ]
    },
    {
     "name": "stdout",
     "output_type": "stream",
     "text": [
      "query: 冷藏保鲜的意思是放在冰冻柜里面吗 ai: 保鲜层一般就可以哈,不要冷冻,冷冻后会断的 lable: 保鲜层一般就可以哈\n"
     ]
    },
    {
     "name": "stderr",
     "output_type": "stream",
     "text": [
      " 50%|█████     | 25/50 [01:54<02:05,  5.02s/it]"
     ]
    },
    {
     "name": "stdout",
     "output_type": "stream",
     "text": [
      "query: 这种肠衣可以灌淀粉肠吗 ai: 亲，肠衣主要是用来灌制香肠的哈。 lable: 可以的\n"
     ]
    },
    {
     "name": "stderr",
     "output_type": "stream",
     "text": [
      " 52%|█████▏    | 26/50 [01:59<02:00,  5.01s/it]"
     ]
    },
    {
     "name": "stdout",
     "output_type": "stream",
     "text": [
      "query: 羊肠衣用猪肠器灌可以吗 ai: 亲,灌肠器都是通用的,不同的是灌肠器的漏斗,羊肠衣漏斗小,猪肠衣漏斗大。 lable: 不能哦 亲\n"
     ]
    },
    {
     "name": "stderr",
     "output_type": "stream",
     "text": [
      " 54%|█████▍    | 27/50 [02:03<01:51,  4.84s/it]"
     ]
    },
    {
     "name": "stdout",
     "output_type": "stream",
     "text": [
      "query: 哪里发货啊 ai: 亲，我们是在山东枣庄发货的哦~ lable: 亲,我们发货地在山东枣庄哦。\n"
     ]
    },
    {
     "name": "stderr",
     "output_type": "stream",
     "text": [
      " 56%|█████▌    | 28/50 [02:09<01:51,  5.06s/it]"
     ]
    },
    {
     "name": "stdout",
     "output_type": "stream",
     "text": [
      "query: 有运费险吗 ai: 包邮退的哈 lable: 有的呢亲亲\n"
     ]
    },
    {
     "name": "stderr",
     "output_type": "stream",
     "text": [
      " 58%|█████▊    | 29/50 [02:14<01:45,  5.04s/it]"
     ]
    },
    {
     "name": "stdout",
     "output_type": "stream",
     "text": [
      "query: 羊肠衣用猪肠器灌可以吗 ai: 亲,灌肠器都是通用的,不同的是灌肠器的漏斗,羊肠衣漏斗小,猪肠衣漏斗大。 lable: 不能哦 亲\n"
     ]
    },
    {
     "name": "stderr",
     "output_type": "stream",
     "text": [
      " 60%|██████    | 30/50 [02:18<01:39,  4.95s/it]"
     ]
    },
    {
     "name": "stdout",
     "output_type": "stream",
     "text": [
      "query: 哪发货 ai: 亲，我们是在山东枣庄发货的哦~ lable: 亲,我们是山东枣庄发货哦~\n"
     ]
    },
    {
     "name": "stderr",
     "output_type": "stream",
     "text": [
      " 62%|██████▏   | 31/50 [02:27<01:52,  5.95s/it]"
     ]
    },
    {
     "name": "stdout",
     "output_type": "stream",
     "text": [
      "query: 肠衣都是一样的 ai: 是的 一样的 lable: 亲,肠衣都是一样滴,都是优质的天然肠衣呢~\n"
     ]
    },
    {
     "name": "stderr",
     "output_type": "stream",
     "text": [
      " 64%|██████▍   | 32/50 [02:32<01:43,  5.75s/it]"
     ]
    },
    {
     "name": "stdout",
     "output_type": "stream",
     "text": [
      "query: 亲,如何能查看我的拼单 ai: 订单详情看下哈 lable: 订单详情看下哈\n"
     ]
    },
    {
     "name": "stderr",
     "output_type": "stream",
     "text": [
      " 66%|██████▌   | 33/50 [02:39<01:44,  6.12s/it]"
     ]
    },
    {
     "name": "stdout",
     "output_type": "stream",
     "text": [
      "query: 给孩子做蒸好冻起来煎吃的那种用什么 ai: 这个建议风干哈 lable: 亲亲,建议用猪肠衣哦,口感好,而且容易操作呢~\n"
     ]
    },
    {
     "name": "stderr",
     "output_type": "stream",
     "text": [
      " 68%|██████▊   | 34/50 [02:43<01:28,  5.52s/it]"
     ]
    },
    {
     "name": "stdout",
     "output_type": "stream",
     "text": [
      "query: 哪里发货 ai: 亲亲,我们是在山东枣庄发货的哦。 lable: 亲,山东枣庄发货\n"
     ]
    },
    {
     "name": "stderr",
     "output_type": "stream",
     "text": [
      " 70%|███████   | 35/50 [02:50<01:30,  6.04s/it]"
     ]
    },
    {
     "name": "stdout",
     "output_type": "stream",
     "text": [
      "query: 香芋两斤,芒果3斤,草莓3斤,抹茶3斤,牛奶5斤,共16斤 ai: 亲 已备注 lable: 亲 您的两个订单分别需要什么口味 具体发下可以吗\n"
     ]
    },
    {
     "name": "stderr",
     "output_type": "stream",
     "text": [
      " 72%|███████▏  | 36/50 [02:54<01:14,  5.32s/it]"
     ]
    },
    {
     "name": "stdout",
     "output_type": "stream",
     "text": [
      "query: 太甜了能加多点牛奶的吗 ai: 可以适量加一些牛奶哦~ lable: 可以适量加一些牛奶哦~\n"
     ]
    },
    {
     "name": "stderr",
     "output_type": "stream",
     "text": [
      " 74%|███████▍  | 37/50 [02:57<01:01,  4.73s/it]"
     ]
    },
    {
     "name": "stdout",
     "output_type": "stream",
     "text": [
      "query: 是什么玻璃瓶装？ ai: 塑料的 lable: 参考评论区\n"
     ]
    },
    {
     "name": "stderr",
     "output_type": "stream",
     "text": [
      " 76%|███████▌  | 38/50 [03:01<00:53,  4.44s/it]"
     ]
    },
    {
     "name": "stdout",
     "output_type": "stream",
     "text": [
      "query: 产地是那里 ai: 亲,我们的产地是山东枣庄哦。 lable: 山东枣庄发货的亲\n"
     ]
    },
    {
     "name": "stderr",
     "output_type": "stream",
     "text": [
      " 78%|███████▊  | 39/50 [03:05<00:45,  4.18s/it]"
     ]
    },
    {
     "name": "stdout",
     "output_type": "stream",
     "text": [
      "query: 凉水能冲泡开吗？ ai: 建议开水哦~ lable: 建议开水\n"
     ]
    },
    {
     "name": "stderr",
     "output_type": "stream",
     "text": [
      " 80%|████████  | 40/50 [03:10<00:46,  4.60s/it]"
     ]
    },
    {
     "name": "stdout",
     "output_type": "stream",
     "text": [
      "query: 那我备注一下 ai: 好的亲 lable: 您只能试下哈\n"
     ]
    },
    {
     "name": "stderr",
     "output_type": "stream",
     "text": [
      " 82%|████████▏ | 41/50 [03:17<00:47,  5.30s/it]"
     ]
    },
    {
     "name": "stdout",
     "output_type": "stream",
     "text": [
      "query: 为什么大多数科学家在19世纪70年代就接受了进化论的有效性，却认为自然选择只是进化论的一小部分？ ai: 他们认为进化是有目的的和进步的 lable: 他们认为进化是有目的的和进步的\n"
     ]
    },
    {
     "name": "stderr",
     "output_type": "stream",
     "text": [
      " 84%|████████▍ | 42/50 [03:23<00:43,  5.45s/it]"
     ]
    },
    {
     "name": "stdout",
     "output_type": "stream",
     "text": [
      "query: 随着年龄增长，人的睡眠的趋势如何？？ ai: 人岁数越大，需要的睡眠越少 lable: 丹尼尔博士更是发现了“人岁数越大，需要的睡眠越少”这样的规律\n"
     ]
    },
    {
     "name": "stderr",
     "output_type": "stream",
     "text": [
      " 86%|████████▌ | 43/50 [03:29<00:39,  5.67s/it]"
     ]
    },
    {
     "name": "stdout",
     "output_type": "stream",
     "text": [
      "query: 杨x10向11x0借的钱还款期限是什么时候？ ai: 2012年11月3日前还清 lable: 2012年11月3日\n"
     ]
    },
    {
     "name": "stderr",
     "output_type": "stream",
     "text": [
      " 88%|████████▊ | 44/50 [03:35<00:35,  5.84s/it]"
     ]
    },
    {
     "name": "stdout",
     "output_type": "stream",
     "text": [
      "query: 加拿大研制的“斯瑞克”轮式装甲运输车最大公路行驶速度每小时是多少公里？。 ai: 最大公路行驶速度每小时97公里 lable: 最大公路行驶速度每小时97公里\n"
     ]
    },
    {
     "name": "stderr",
     "output_type": "stream",
     "text": [
      " 90%|█████████ | 45/50 [03:41<00:29,  5.85s/it]"
     ]
    },
    {
     "name": "stdout",
     "output_type": "stream",
     "text": [
      "query: 《气候公约》还要求气专委开展哪些活动？ ai: 数据分发中心和国家温室气体清单方案 lable: 数据分发中心和国家温室气体清单方案\n"
     ]
    },
    {
     "name": "stderr",
     "output_type": "stream",
     "text": [
      " 92%|█████████▏| 46/50 [03:46<00:22,  5.63s/it]"
     ]
    },
    {
     "name": "stdout",
     "output_type": "stream",
     "text": [
      "query: 鲍威尔在哪个委员会面前作证？ ai: 参议院外交关系委员会 lable: 参议院外交关系委员会\n"
     ]
    },
    {
     "name": "stderr",
     "output_type": "stream",
     "text": [
      " 94%|█████████▍| 47/50 [03:52<00:17,  5.74s/it]"
     ]
    },
    {
     "name": "stdout",
     "output_type": "stream",
     "text": [
      "query: 休斯顿有什么样的政府？ ai: 强有力的市长制市政府 lable: 强有力的市长制市政府\n"
     ]
    },
    {
     "name": "stderr",
     "output_type": "stream",
     "text": [
      " 96%|█████████▌| 48/50 [03:57<00:10,  5.46s/it]"
     ]
    },
    {
     "name": "stdout",
     "output_type": "stream",
     "text": [
      "query: 054A搭载的垂直发射防空导弹是哪个型号？该型舰造价多少？。 ai: 红旗-16中程防空导弹 lable: 防空导弹是中国在2000年代开发的红旗-16中程\n"
     ]
    },
    {
     "name": "stderr",
     "output_type": "stream",
     "text": [
      " 98%|█████████▊| 49/50 [04:04<00:05,  5.80s/it]"
     ]
    },
    {
     "name": "stdout",
     "output_type": "stream",
     "text": [
      "query: 台湾北部第二个直辖市于什么时候产生？ ai: 中华民国99年12月25日 lable: 中华民国99年12月25日\n"
     ]
    },
    {
     "name": "stderr",
     "output_type": "stream",
     "text": [
      "100%|██████████| 50/50 [04:08<00:00,  4.98s/it]"
     ]
    },
    {
     "name": "stdout",
     "output_type": "stream",
     "text": [
      "query: iphone4什么时候出的 ai: 2010年6月8日凌晨1点 lable: 2010年6月8日凌晨1点\n",
      "done\n"
     ]
    },
    {
     "name": "stderr",
     "output_type": "stream",
     "text": [
      "\n"
     ]
    },
    {
     "name": "stdout",
     "output_type": "stream",
     "text": [
      "写入完毕\n"
     ]
    },
    {
     "data": {
      "text/html": [
       "<div>\n",
       "<style scoped>\n",
       "    .dataframe tbody tr th:only-of-type {\n",
       "        vertical-align: middle;\n",
       "    }\n",
       "\n",
       "    .dataframe tbody tr th {\n",
       "        vertical-align: top;\n",
       "    }\n",
       "\n",
       "    .dataframe thead th {\n",
       "        text-align: right;\n",
       "    }\n",
       "</style>\n",
       "<table border=\"1\" class=\"dataframe\">\n",
       "  <thead>\n",
       "    <tr style=\"text-align: right;\">\n",
       "      <th></th>\n",
       "      <th>q</th>\n",
       "      <th>que</th>\n",
       "      <th>kb_ids</th>\n",
       "      <th>new_refer</th>\n",
       "      <th>actual_send_answer</th>\n",
       "      <th>qwl02-cleaned-base</th>\n",
       "      <th>qwl02-cleaned-base-gpt35</th>\n",
       "      <th>qwl02-cleaned-chat</th>\n",
       "      <th>qwl02-cleaned-chat-gpt35</th>\n",
       "      <th>qwl02-cleaneddoc3</th>\n",
       "      <th>...</th>\n",
       "      <th>yil02-cleandoc-Chat-34B</th>\n",
       "      <th>yil02-cleandoc-Chat-34B_gpt35</th>\n",
       "      <th>qwl02</th>\n",
       "      <th>qwl02_gpt35</th>\n",
       "      <th>qwl02-cleaneddoc8-32b-base</th>\n",
       "      <th>qwl02-cleaneddoc8-32b-base_gpt35</th>\n",
       "      <th>qwl02-cleaneddoc8-32b-base-new</th>\n",
       "      <th>qwl02-cleaneddoc13-32b-base</th>\n",
       "      <th>qwl02-cleaneddoc18-32b-base</th>\n",
       "      <th>qwl02-cleaneddoc18-32b-base-cp12000</th>\n",
       "    </tr>\n",
       "  </thead>\n",
       "  <tbody>\n",
       "    <tr>\n",
       "      <th>0</th>\n",
       "      <td>一包肠依做多少肉</td>\n",
       "      <td>[{\"role\":\"assistant\",\"content\":\"很高兴为您服务,请问有什么可...</td>\n",
       "      <td>22, 23</td>\n",
       "      <td>['问题：\"一包肠衣灌几斤肉啊\",答案：\"亲,5斤一包肠衣可以灌5斤左右肉,10斤装的可以灌...</td>\n",
       "      <td>猪肠衣五斤一包4-5米左右,口径3.8-4.0左右,灌大约4斤肉 10斤一包8-10米左右,...</td>\n",
       "      <td>亲，猪肠衣五斤一包4-5米左右，口径3.8-4.0左右，灌大约4斤肉；10斤一包8-10米左...</td>\n",
       "      <td>1</td>\n",
       "      <td>亲，5斤一包肠衣可以灌5斤左右肉，10斤装的可以灌8-10斤肉，根据个人手法会有所不同哦。</td>\n",
       "      <td>1</td>\n",
       "      <td>亲,5斤一包肠衣可以灌5斤左右肉,10斤装的可以灌8-10斤肉,根据个人手法会有所不同哦。</td>\n",
       "      <td>...</td>\n",
       "      <td>猪肠衣五斤一包4-5米左右，口径3.8-4.0左右，灌大约4斤肉；10斤一包8-10米左右，...</td>\n",
       "      <td>1</td>\n",
       "      <td>亲，5斤一包肠衣可以灌5斤左右肉，10斤装的可以灌8-10斤肉，根据个人手法会有所不同哦。</td>\n",
       "      <td>1</td>\n",
       "      <td>亲，5斤一包肠衣可以灌5斤左右肉，10斤装的可以灌8-10斤肉，根据个人手法会有所不同哦。</td>\n",
       "      <td>1</td>\n",
       "      <td>猪肠衣五斤一包4-5米左右，口径3.8-4.0左右，灌大约4斤肉 10斤一包8-10米左右，...</td>\n",
       "      <td>亲，5斤一包肠衣可以灌5斤左右肉，10斤装的可以灌8-10斤肉，根据个人手法会有所不同哦。</td>\n",
       "      <td>亲，5斤一包肠衣可以灌5斤左右肉,10斤装的可以灌8-10斤肉,根据个人手法会有所不同哦。</td>\n",
       "      <td>亲，5斤一包肠衣可以灌5斤左右肉，10斤装的可以灌8-10斤肉，根据个人手法会有所不同哦。</td>\n",
       "    </tr>\n",
       "  </tbody>\n",
       "</table>\n",
       "<p>1 rows × 28 columns</p>\n",
       "</div>"
      ],
      "text/plain": [
       "          q                                                que  kb_ids  \\\n",
       "0  一包肠依做多少肉  [{\"role\":\"assistant\",\"content\":\"很高兴为您服务,请问有什么可...  22, 23   \n",
       "\n",
       "                                           new_refer  \\\n",
       "0  ['问题：\"一包肠衣灌几斤肉啊\",答案：\"亲,5斤一包肠衣可以灌5斤左右肉,10斤装的可以灌...   \n",
       "\n",
       "                                  actual_send_answer  \\\n",
       "0  猪肠衣五斤一包4-5米左右,口径3.8-4.0左右,灌大约4斤肉 10斤一包8-10米左右,...   \n",
       "\n",
       "                                  qwl02-cleaned-base  \\\n",
       "0  亲，猪肠衣五斤一包4-5米左右，口径3.8-4.0左右，灌大约4斤肉；10斤一包8-10米左...   \n",
       "\n",
       "   qwl02-cleaned-base-gpt35                             qwl02-cleaned-chat  \\\n",
       "0                         1  亲，5斤一包肠衣可以灌5斤左右肉，10斤装的可以灌8-10斤肉，根据个人手法会有所不同哦。   \n",
       "\n",
       "   qwl02-cleaned-chat-gpt35                              qwl02-cleaneddoc3  \\\n",
       "0                         1  亲,5斤一包肠衣可以灌5斤左右肉,10斤装的可以灌8-10斤肉,根据个人手法会有所不同哦。   \n",
       "\n",
       "   ...                            yil02-cleandoc-Chat-34B  \\\n",
       "0  ...  猪肠衣五斤一包4-5米左右，口径3.8-4.0左右，灌大约4斤肉；10斤一包8-10米左右，...   \n",
       "\n",
       "  yil02-cleandoc-Chat-34B_gpt35  \\\n",
       "0                             1   \n",
       "\n",
       "                                           qwl02 qwl02_gpt35  \\\n",
       "0  亲，5斤一包肠衣可以灌5斤左右肉，10斤装的可以灌8-10斤肉，根据个人手法会有所不同哦。           1   \n",
       "\n",
       "                      qwl02-cleaneddoc8-32b-base  \\\n",
       "0  亲，5斤一包肠衣可以灌5斤左右肉，10斤装的可以灌8-10斤肉，根据个人手法会有所不同哦。   \n",
       "\n",
       "  qwl02-cleaneddoc8-32b-base_gpt35  \\\n",
       "0                                1   \n",
       "\n",
       "                      qwl02-cleaneddoc8-32b-base-new  \\\n",
       "0  猪肠衣五斤一包4-5米左右，口径3.8-4.0左右，灌大约4斤肉 10斤一包8-10米左右，...   \n",
       "\n",
       "                     qwl02-cleaneddoc13-32b-base  \\\n",
       "0  亲，5斤一包肠衣可以灌5斤左右肉，10斤装的可以灌8-10斤肉，根据个人手法会有所不同哦。   \n",
       "\n",
       "                     qwl02-cleaneddoc18-32b-base  \\\n",
       "0  亲，5斤一包肠衣可以灌5斤左右肉,10斤装的可以灌8-10斤肉,根据个人手法会有所不同哦。   \n",
       "\n",
       "             qwl02-cleaneddoc18-32b-base-cp12000  \n",
       "0  亲，5斤一包肠衣可以灌5斤左右肉，10斤装的可以灌8-10斤肉，根据个人手法会有所不同哦。  \n",
       "\n",
       "[1 rows x 28 columns]"
      ]
     },
     "execution_count": 4,
     "metadata": {},
     "output_type": "execute_result"
    }
   ],
   "source": [
    "\n",
    "from infer import infer\n",
    "import torch\n",
    "\n",
    "model_path = '/data/lj/models/Qwen1.5-32B/qwl02-cleaneddoc18-32b-base-cp12000'\n",
    "\n",
    "model_name = model_path.split('/')[-1]\n",
    "# model_name ='yil02-cleandoc-Chat'\n",
    "result = infer(model_path,infer_data,None)\n",
    "assert len(infer_data) ==  len(result)\n",
    "infered_data[model_name] = result\n",
    "torch.cuda.empty_cache()\n",
    "\n",
    "\n",
    "save_path = datapath\n",
    "infered_data.to_csv(save_path,index=False)\n",
    "print('写入完毕')\n",
    "infered_data.head(1)"
   ]
  },
  {
   "cell_type": "code",
   "execution_count": 5,
   "metadata": {},
   "outputs": [
    {
     "name": "stderr",
     "output_type": "stream",
     "text": [
      "Special tokens have been added in the vocabulary, make sure the associated word embeddings are fine-tuned or trained.\n",
      "Special tokens have been added in the vocabulary, make sure the associated word embeddings are fine-tuned or trained.\n",
      "Loading checkpoint shards: 100%|██████████| 12/12 [01:04<00:00,  5.40s/it]\n",
      "  2%|▏         | 1/50 [00:05<04:22,  5.35s/it]"
     ]
    },
    {
     "name": "stdout",
     "output_type": "stream",
     "text": [
      "query: 一包肠依做多少肉 ai: 亲，5斤一包肠衣可以灌5斤左右肉,10斤装的可以灌8-10斤肉,根据个人手法会有所不同哦。 lable: 猪肠衣五斤一包4-5米左右,口径3.8-4.0左右,灌大约4斤肉 10斤一包8-10米左右,口径3.8-4.0左右,灌大约8-10斤肉。\n"
     ]
    },
    {
     "name": "stderr",
     "output_type": "stream",
     "text": [
      "  4%|▍         | 2/50 [00:08<03:16,  4.10s/it]"
     ]
    },
    {
     "name": "stdout",
     "output_type": "stream",
     "text": [
      "query: 好了不跟你计较可以多些都结了。 ai: 亲，确认收货以后联系我们帮您处理哈 lable: 你好 在的亲\n"
     ]
    },
    {
     "name": "stderr",
     "output_type": "stream",
     "text": [
      "  6%|▌         | 3/50 [00:11<02:44,  3.50s/it]"
     ]
    },
    {
     "name": "stdout",
     "output_type": "stream",
     "text": [
      "query: 还不发 ai: 亲亲，已经在陆续发货了，会尽快安排的哈 lable: 这边帮您催下\n"
     ]
    },
    {
     "name": "stderr",
     "output_type": "stream",
     "text": [
      "  8%|▊         | 4/50 [00:15<02:45,  3.60s/it]"
     ]
    },
    {
     "name": "stdout",
     "output_type": "stream",
     "text": [
      "query: 是一样一斤,还是两种搭配两斤 ai: 一样一斤亲 lable: 一样一斤亲\n"
     ]
    },
    {
     "name": "stderr",
     "output_type": "stream",
     "text": [
      " 10%|█         | 5/50 [00:18<02:38,  3.53s/it]"
     ]
    },
    {
     "name": "stdout",
     "output_type": "stream",
     "text": [
      "query: 等到什么时候一年么 ai: 亲 需要看仓库发货情况 lable: 什么\n"
     ]
    },
    {
     "name": "stderr",
     "output_type": "stream",
     "text": [
      " 12%|█▏        | 6/50 [00:23<02:52,  3.92s/it]"
     ]
    },
    {
     "name": "stdout",
     "output_type": "stream",
     "text": [
      "query: 除了巧克力不要,其它的都要 ai: 亲下单以后联系我们备注哈 lable: 原味,草莓,抹茶,芒果,香芋,椰奶\n"
     ]
    },
    {
     "name": "stderr",
     "output_type": "stream",
     "text": [
      " 14%|█▍        | 7/50 [00:27<02:50,  3.98s/it]"
     ]
    },
    {
     "name": "stdout",
     "output_type": "stream",
     "text": [
      "query: 草莓,芒果,抹茶,香芋,我要这几种口味各两包 ai: 好的已备注亲 lable: 好的已备注亲\n"
     ]
    },
    {
     "name": "stderr",
     "output_type": "stream",
     "text": [
      " 16%|█▌        | 8/50 [00:32<02:59,  4.27s/it]"
     ]
    },
    {
     "name": "stdout",
     "output_type": "stream",
     "text": [
      "query: 泡开了直接放冰箱吗？ ai: 亲亲,自制烧仙草可以放冰箱冷藏保存2-3天,不过建议是吃多少煮多少,保存时间太长影响口感。 lable: 自制烧仙草可以放冰箱冷藏保存2-3天,不过建议是吃多少煮多少,保存时间太长影响口感。\n"
     ]
    },
    {
     "name": "stderr",
     "output_type": "stream",
     "text": [
      " 18%|█▊        | 9/50 [00:34<02:36,  3.81s/it]"
     ]
    },
    {
     "name": "stdout",
     "output_type": "stream",
     "text": [
      "query: 是熟山药粉吗？ ai: 亲,我们的山药粉是熟山药粉哦~ lable: 冲泡即食的亲\n"
     ]
    },
    {
     "name": "stderr",
     "output_type": "stream",
     "text": [
      " 20%|██        | 10/50 [00:39<02:38,  3.95s/it]"
     ]
    },
    {
     "name": "stdout",
     "output_type": "stream",
     "text": [
      "query: 我已拍芒果味的请给我搭配上抹茶味的 ai: 亲，已备注哦~ lable: 亲 您拍的这个选项不支持指定备注\n"
     ]
    },
    {
     "name": "stderr",
     "output_type": "stream",
     "text": [
      " 22%|██▏       | 11/50 [00:44<02:47,  4.28s/it]"
     ]
    },
    {
     "name": "stdout",
     "output_type": "stream",
     "text": [
      "query: 为什么还让我拿5元呢 ai: 亲 我们已经支付的 13.66元 与您退回的4.9元 有缺口 您看您想怎么处理 lable: 亲 这个不清楚的哦\n"
     ]
    },
    {
     "name": "stderr",
     "output_type": "stream",
     "text": [
      " 24%|██▍       | 12/50 [00:48<02:38,  4.18s/it]"
     ]
    },
    {
     "name": "stdout",
     "output_type": "stream",
     "text": [
      "query: 好吃吗？ ai: 亲亲，我们的燕麦片是很好吃的哦。 lable: 亲亲,每个口味不一样,您可以先尝试一下哦。\n"
     ]
    },
    {
     "name": "stderr",
     "output_type": "stream",
     "text": [
      " 26%|██▌       | 13/50 [00:51<02:23,  3.89s/it]"
     ]
    },
    {
     "name": "stdout",
     "output_type": "stream",
     "text": [
      "query: 颜色不需要自己调是吧 ai: 亲，各种口味都有自己的颜色，不需要自己调哦~ lable: 是的\n"
     ]
    },
    {
     "name": "stderr",
     "output_type": "stream",
     "text": [
      " 28%|██▊       | 14/50 [00:54<02:13,  3.72s/it]"
     ]
    },
    {
     "name": "stdout",
     "output_type": "stream",
     "text": [
      "query: 做完一直在冷藏放着吗,可以放几天 ai: 亲，一般建议当天食用哈 lable: 亲,做完后建议尽快食用哦\n"
     ]
    },
    {
     "name": "stderr",
     "output_type": "stream",
     "text": [
      " 30%|███       | 15/50 [00:58<02:10,  3.72s/it]"
     ]
    },
    {
     "name": "stdout",
     "output_type": "stream",
     "text": [
      "query: 点错了,怎么取消 ai: 亲，您可以在订单详情页点击取消订单哦~ lable: 亲,您可以在后台申请退款哦~\n"
     ]
    },
    {
     "name": "stderr",
     "output_type": "stream",
     "text": [
      " 32%|███▏      | 16/50 [01:02<02:10,  3.85s/it]"
     ]
    },
    {
     "name": "stdout",
     "output_type": "stream",
     "text": [
      "query: 年前买的肠衣怎么那么细,根本灌不上十斤肉,破损特别多 ai: 亲，我们的肠衣是天然肠衣，有些小破洞是难免的，但不会影响食用效果。 lable: 天然肠衣,不敢保证没有孔,因为是人工从猪肠子上剥离的,在剥离的过程中,难免会有破损的亲。\n"
     ]
    },
    {
     "name": "stderr",
     "output_type": "stream",
     "text": [
      " 34%|███▍      | 17/50 [01:10<02:44,  4.98s/it]"
     ]
    },
    {
     "name": "stdout",
     "output_type": "stream",
     "text": [
      "query: 两罐都是700g吗？ ai: 亲，两罐都是700g哦~ lable: 一罐350g的亲 二罐是700g\n"
     ]
    },
    {
     "name": "stderr",
     "output_type": "stream",
     "text": [
      " 36%|███▌      | 18/50 [01:17<03:03,  5.72s/it]"
     ]
    },
    {
     "name": "stdout",
     "output_type": "stream",
     "text": [
      "query: 你好这款肠衣灌完直接上锅蒸或煮都可以吗 ai: 亲，灌好后系绳子扎孔,风干或者蒸煮,根据个人口感哦。 lable: 罐好后系绳子扎孔,风干或者蒸煮,根据个人口感哦\"。\n"
     ]
    },
    {
     "name": "stderr",
     "output_type": "stream",
     "text": [
      " 38%|███▊      | 19/50 [01:25<03:19,  6.43s/it]"
     ]
    },
    {
     "name": "stdout",
     "output_type": "stream",
     "text": [
      "query: 人工好评返现？ ai: 亲，本店都是薄利多销,没啥利润的,如果您签收以后还满意的话，麻烦给个五星好评鼓励一下哦。如果说看到有评价有礼活动，那可能是官方活动，不是本店活动，可以按照步骤要求提交试一下哦。 lable: 亲,本店都是薄利多销,没啥利润的,如果您签收以后还满意的话,麻烦给个五星好评鼓励一下哦。如果说看到有评价有礼活动,那可能是官方活动,不是本店活动,可以按照步骤要求提交试一下哦。\n"
     ]
    },
    {
     "name": "stderr",
     "output_type": "stream",
     "text": [
      " 40%|████      | 20/50 [01:36<03:52,  7.76s/it]"
     ]
    },
    {
     "name": "stdout",
     "output_type": "stream",
     "text": [
      "query: 这明显少的也太多了呀,人家一包里面至少有四五个,你这就两根肠子,你这不是欺骗消费者吗你？你这少的也太多了你量了一下,就两米多一点点,你那是大肠吗？能宽10斤肉 ai: 猪肠衣五斤一包4-5米左右,口径3.8-4.0左右,灌大约4斤肉 10斤一包8-10米左右,口径3.8-4.0左右,灌大约8-10斤肉。根据个人手法,会有误差,因为有人灌的紧,有人灌的肉松 lable: 亲,肠衣灌肉的量确实因人而异哦,我们肠衣一包能灌10斤肉左右,具体灌多少肉还需要看个人手法哦。\n"
     ]
    },
    {
     "name": "stderr",
     "output_type": "stream",
     "text": [
      " 42%|████▏     | 21/50 [01:42<03:32,  7.33s/it]"
     ]
    },
    {
     "name": "stdout",
     "output_type": "stream",
     "text": [
      "query: 请问在你家买的肠衣,整包没用完的怎么存放 ai: 亲,用水泡过的肠衣没用完可以用盐腌制起来,然后沥干水分,后食品袋包好放冰箱冷藏保鲜就可以了哦~ lable: 亲,用水泡过的肠衣没用完可以用盐腌制起来,然后沥干水分,后食品袋包好放冰箱冷藏保鲜就可以了亲,没泡过的直接冷藏保鲜就可以。\n"
     ]
    },
    {
     "name": "stderr",
     "output_type": "stream",
     "text": [
      " 44%|████▍     | 22/50 [01:48<03:10,  6.81s/it]"
     ]
    },
    {
     "name": "stdout",
     "output_type": "stream",
     "text": [
      "query: 不是说40斤给送嘛,这个选项不是相当于买的吗？都在你家买好几回了 ai: 亲,看选项哦亲,选项上面有写的就送,没有写的就不送哦 lable: 亲,只能看选项哦~\n"
     ]
    },
    {
     "name": "stderr",
     "output_type": "stream",
     "text": [
      " 46%|████▌     | 23/50 [01:53<02:49,  6.29s/it]"
     ]
    },
    {
     "name": "stdout",
     "output_type": "stream",
     "text": [
      "query: 是哪种包装呢？ ai: 亲，两种包装随机发出哈~ lable: 新老包装随机发的哈\n"
     ]
    },
    {
     "name": "stderr",
     "output_type": "stream",
     "text": [
      " 48%|████▊     | 24/50 [01:58<02:28,  5.71s/it]"
     ]
    },
    {
     "name": "stdout",
     "output_type": "stream",
     "text": [
      "query: 冷藏保鲜的意思是放在冰冻柜里面吗 ai: 亲，冷藏保鲜的意思是放在保鲜层一般就可以哈,不要冷冻,冷冻后会断的。 lable: 保鲜层一般就可以哈\n"
     ]
    },
    {
     "name": "stderr",
     "output_type": "stream",
     "text": [
      " 50%|█████     | 25/50 [02:05<02:36,  6.28s/it]"
     ]
    },
    {
     "name": "stdout",
     "output_type": "stream",
     "text": [
      "query: 这种肠衣可以灌淀粉肠吗 ai: 亲，肠衣主要是用来灌制香肠的哈。 lable: 可以的\n"
     ]
    },
    {
     "name": "stderr",
     "output_type": "stream",
     "text": [
      " 52%|█████▏    | 26/50 [02:10<02:23,  5.96s/it]"
     ]
    },
    {
     "name": "stdout",
     "output_type": "stream",
     "text": [
      "query: 羊肠衣用猪肠器灌可以吗 ai: 亲,灌肠器都是通用的,不同的是灌肠器的漏斗,羊肠衣漏斗小,猪肠衣漏斗大。 lable: 不能哦 亲\n"
     ]
    },
    {
     "name": "stderr",
     "output_type": "stream",
     "text": [
      " 54%|█████▍    | 27/50 [02:15<02:07,  5.55s/it]"
     ]
    },
    {
     "name": "stdout",
     "output_type": "stream",
     "text": [
      "query: 哪里发货啊 ai: 亲，我们是在山东枣庄发货的哦~ lable: 亲,我们发货地在山东枣庄哦。\n"
     ]
    },
    {
     "name": "stderr",
     "output_type": "stream",
     "text": [
      " 56%|█████▌    | 28/50 [02:22<02:15,  6.14s/it]"
     ]
    },
    {
     "name": "stdout",
     "output_type": "stream",
     "text": [
      "query: 有运费险吗 ai: 包邮退的哈 lable: 有的呢亲亲\n"
     ]
    },
    {
     "name": "stderr",
     "output_type": "stream",
     "text": [
      " 58%|█████▊    | 29/50 [02:28<02:03,  5.88s/it]"
     ]
    },
    {
     "name": "stdout",
     "output_type": "stream",
     "text": [
      "query: 羊肠衣用猪肠器灌可以吗 ai: 亲,灌肠器都是通用的,不同的是灌肠器的漏斗,羊肠衣漏斗小,猪肠衣漏斗大。 lable: 不能哦 亲\n"
     ]
    },
    {
     "name": "stderr",
     "output_type": "stream",
     "text": [
      " 60%|██████    | 30/50 [02:33<01:51,  5.59s/it]"
     ]
    },
    {
     "name": "stdout",
     "output_type": "stream",
     "text": [
      "query: 哪发货 ai: 亲，我们是在山东枣庄发货的哦~ lable: 亲,我们是山东枣庄发货哦~\n"
     ]
    },
    {
     "name": "stderr",
     "output_type": "stream",
     "text": [
      " 62%|██████▏   | 31/50 [02:41<02:00,  6.34s/it]"
     ]
    },
    {
     "name": "stdout",
     "output_type": "stream",
     "text": [
      "query: 肠衣都是一样的 ai: 是的 一样的 lable: 亲,肠衣都是一样滴,都是优质的天然肠衣呢~\n"
     ]
    },
    {
     "name": "stderr",
     "output_type": "stream",
     "text": [
      " 64%|██████▍   | 32/50 [02:48<01:57,  6.53s/it]"
     ]
    },
    {
     "name": "stdout",
     "output_type": "stream",
     "text": [
      "query: 亲,如何能查看我的拼单 ai: 亲亲,您可以在订单详情中查看拼单状态哦~ lable: 订单详情看下哈\n"
     ]
    },
    {
     "name": "stderr",
     "output_type": "stream",
     "text": [
      " 66%|██████▌   | 33/50 [02:54<01:52,  6.61s/it]"
     ]
    },
    {
     "name": "stdout",
     "output_type": "stream",
     "text": [
      "query: 给孩子做蒸好冻起来煎吃的那种用什么 ai: 亲，您可以选择猪肠衣 lable: 亲亲,建议用猪肠衣哦,口感好,而且容易操作呢~\n"
     ]
    },
    {
     "name": "stderr",
     "output_type": "stream",
     "text": [
      " 68%|██████▊   | 34/50 [02:58<01:32,  5.76s/it]"
     ]
    },
    {
     "name": "stdout",
     "output_type": "stream",
     "text": [
      "query: 哪里发货 ai: 亲亲，我们是在山东枣庄发货的哦。 lable: 亲,山东枣庄发货\n"
     ]
    },
    {
     "name": "stderr",
     "output_type": "stream",
     "text": [
      " 70%|███████   | 35/50 [03:05<01:32,  6.17s/it]"
     ]
    },
    {
     "name": "stdout",
     "output_type": "stream",
     "text": [
      "query: 香芋两斤,芒果3斤,草莓3斤,抹茶3斤,牛奶5斤,共16斤 ai: 亲 您的两个订单分别需要什么口味 具体发下可以吗 lable: 亲 您的两个订单分别需要什么口味 具体发下可以吗\n"
     ]
    },
    {
     "name": "stderr",
     "output_type": "stream",
     "text": [
      " 72%|███████▏  | 36/50 [03:09<01:15,  5.38s/it]"
     ]
    },
    {
     "name": "stdout",
     "output_type": "stream",
     "text": [
      "query: 太甜了能加多点牛奶的吗 ai: 亲亲,可以适量加一些牛奶哦~ lable: 可以适量加一些牛奶哦~\n"
     ]
    },
    {
     "name": "stderr",
     "output_type": "stream",
     "text": [
      " 74%|███████▍  | 37/50 [03:12<01:02,  4.77s/it]"
     ]
    },
    {
     "name": "stdout",
     "output_type": "stream",
     "text": [
      "query: 是什么玻璃瓶装？ ai: 亲亲,正常就是塑料灌装的哈~ lable: 参考评论区\n"
     ]
    },
    {
     "name": "stderr",
     "output_type": "stream",
     "text": [
      " 76%|███████▌  | 38/50 [03:16<00:53,  4.42s/it]"
     ]
    },
    {
     "name": "stdout",
     "output_type": "stream",
     "text": [
      "query: 产地是那里 ai: 亲,我们的产地是山东枣庄哦~ lable: 山东枣庄发货的亲\n"
     ]
    },
    {
     "name": "stderr",
     "output_type": "stream",
     "text": [
      " 78%|███████▊  | 39/50 [03:19<00:45,  4.13s/it]"
     ]
    },
    {
     "name": "stdout",
     "output_type": "stream",
     "text": [
      "query: 凉水能冲泡开吗？ ai: 建议开水哦~ lable: 建议开水\n"
     ]
    },
    {
     "name": "stderr",
     "output_type": "stream",
     "text": [
      " 80%|████████  | 40/50 [03:25<00:45,  4.53s/it]"
     ]
    },
    {
     "name": "stdout",
     "output_type": "stream",
     "text": [
      "query: 那我备注一下 ai: 亲下单以后联系我们备注哈 lable: 您只能试下哈\n"
     ]
    },
    {
     "name": "stderr",
     "output_type": "stream",
     "text": [
      " 82%|████████▏ | 41/50 [03:32<00:47,  5.23s/it]"
     ]
    },
    {
     "name": "stdout",
     "output_type": "stream",
     "text": [
      "query: 为什么大多数科学家在19世纪70年代就接受了进化论的有效性，却认为自然选择只是进化论的一小部分？ ai: 他们认为进化是有目的的和进步的 lable: 他们认为进化是有目的的和进步的\n"
     ]
    },
    {
     "name": "stderr",
     "output_type": "stream",
     "text": [
      " 84%|████████▍ | 42/50 [03:37<00:42,  5.25s/it]"
     ]
    },
    {
     "name": "stdout",
     "output_type": "stream",
     "text": [
      "query: 随着年龄增长，人的睡眠的趋势如何？？ ai: 人岁数越大，需要的睡眠越少 lable: 丹尼尔博士更是发现了“人岁数越大，需要的睡眠越少”这样的规律\n"
     ]
    },
    {
     "name": "stderr",
     "output_type": "stream",
     "text": [
      " 86%|████████▌ | 43/50 [03:43<00:38,  5.51s/it]"
     ]
    },
    {
     "name": "stdout",
     "output_type": "stream",
     "text": [
      "query: 杨x10向11x0借的钱还款期限是什么时候？ ai: 2012年11月3日前还清 lable: 2012年11月3日\n"
     ]
    },
    {
     "name": "stderr",
     "output_type": "stream",
     "text": [
      " 88%|████████▊ | 44/50 [03:49<00:34,  5.71s/it]"
     ]
    },
    {
     "name": "stdout",
     "output_type": "stream",
     "text": [
      "query: 加拿大研制的“斯瑞克”轮式装甲运输车最大公路行驶速度每小时是多少公里？。 ai: 最大公路行驶速度每小时97公里 lable: 最大公路行驶速度每小时97公里\n"
     ]
    },
    {
     "name": "stderr",
     "output_type": "stream",
     "text": [
      " 90%|█████████ | 45/50 [03:55<00:28,  5.74s/it]"
     ]
    },
    {
     "name": "stdout",
     "output_type": "stream",
     "text": [
      "query: 《气候公约》还要求气专委开展哪些活动？ ai: 数据分发中心和国家温室气体清单方案 lable: 数据分发中心和国家温室气体清单方案\n"
     ]
    },
    {
     "name": "stderr",
     "output_type": "stream",
     "text": [
      " 92%|█████████▏| 46/50 [04:00<00:21,  5.49s/it]"
     ]
    },
    {
     "name": "stdout",
     "output_type": "stream",
     "text": [
      "query: 鲍威尔在哪个委员会面前作证？ ai: 参议院外交关系委员会 lable: 参议院外交关系委员会\n"
     ]
    },
    {
     "name": "stderr",
     "output_type": "stream",
     "text": [
      " 94%|█████████▍| 47/50 [04:05<00:16,  5.44s/it]"
     ]
    },
    {
     "name": "stdout",
     "output_type": "stream",
     "text": [
      "query: 休斯顿有什么样的政府？ ai: 强有力的市长制市政府 lable: 强有力的市长制市政府\n"
     ]
    },
    {
     "name": "stderr",
     "output_type": "stream",
     "text": [
      " 96%|█████████▌| 48/50 [04:10<00:10,  5.23s/it]"
     ]
    },
    {
     "name": "stdout",
     "output_type": "stream",
     "text": [
      "query: 054A搭载的垂直发射防空导弹是哪个型号？该型舰造价多少？。 ai: 红旗-16中程防空导弹 lable: 防空导弹是中国在2000年代开发的红旗-16中程\n"
     ]
    },
    {
     "name": "stderr",
     "output_type": "stream",
     "text": [
      " 98%|█████████▊| 49/50 [04:15<00:05,  5.28s/it]"
     ]
    },
    {
     "name": "stdout",
     "output_type": "stream",
     "text": [
      "query: 台湾北部第二个直辖市于什么时候产生？ ai: 中华民国99年12月25日 lable: 中华民国99年12月25日\n"
     ]
    },
    {
     "name": "stderr",
     "output_type": "stream",
     "text": [
      "100%|██████████| 50/50 [04:19<00:00,  5.20s/it]"
     ]
    },
    {
     "name": "stdout",
     "output_type": "stream",
     "text": [
      "query: iphone4什么时候出的 ai: 2010年6月8日凌晨1点 lable: 2010年6月8日凌晨1点\n",
      "done\n",
      "写入完毕\n"
     ]
    },
    {
     "name": "stderr",
     "output_type": "stream",
     "text": [
      "\n"
     ]
    },
    {
     "data": {
      "text/html": [
       "<div>\n",
       "<style scoped>\n",
       "    .dataframe tbody tr th:only-of-type {\n",
       "        vertical-align: middle;\n",
       "    }\n",
       "\n",
       "    .dataframe tbody tr th {\n",
       "        vertical-align: top;\n",
       "    }\n",
       "\n",
       "    .dataframe thead th {\n",
       "        text-align: right;\n",
       "    }\n",
       "</style>\n",
       "<table border=\"1\" class=\"dataframe\">\n",
       "  <thead>\n",
       "    <tr style=\"text-align: right;\">\n",
       "      <th></th>\n",
       "      <th>q</th>\n",
       "      <th>que</th>\n",
       "      <th>kb_ids</th>\n",
       "      <th>new_refer</th>\n",
       "      <th>actual_send_answer</th>\n",
       "      <th>qwl02-cleaned-base</th>\n",
       "      <th>qwl02-cleaned-base-gpt35</th>\n",
       "      <th>qwl02-cleaned-chat</th>\n",
       "      <th>qwl02-cleaned-chat-gpt35</th>\n",
       "      <th>qwl02-cleaneddoc3</th>\n",
       "      <th>...</th>\n",
       "      <th>yil02-cleandoc-Chat-34B_gpt35</th>\n",
       "      <th>qwl02</th>\n",
       "      <th>qwl02_gpt35</th>\n",
       "      <th>qwl02-cleaneddoc8-32b-base</th>\n",
       "      <th>qwl02-cleaneddoc8-32b-base_gpt35</th>\n",
       "      <th>qwl02-cleaneddoc8-32b-base-new</th>\n",
       "      <th>qwl02-cleaneddoc13-32b-base</th>\n",
       "      <th>qwl02-cleaneddoc18-32b-base</th>\n",
       "      <th>qwl02-cleaneddoc18-32b-base-cp12000</th>\n",
       "      <th>qwl02-cleaneddoc18-32b-base-cp15000</th>\n",
       "    </tr>\n",
       "  </thead>\n",
       "  <tbody>\n",
       "    <tr>\n",
       "      <th>0</th>\n",
       "      <td>一包肠依做多少肉</td>\n",
       "      <td>[{\"role\":\"assistant\",\"content\":\"很高兴为您服务,请问有什么可...</td>\n",
       "      <td>22, 23</td>\n",
       "      <td>['问题：\"一包肠衣灌几斤肉啊\",答案：\"亲,5斤一包肠衣可以灌5斤左右肉,10斤装的可以灌...</td>\n",
       "      <td>猪肠衣五斤一包4-5米左右,口径3.8-4.0左右,灌大约4斤肉 10斤一包8-10米左右,...</td>\n",
       "      <td>亲，猪肠衣五斤一包4-5米左右，口径3.8-4.0左右，灌大约4斤肉；10斤一包8-10米左...</td>\n",
       "      <td>1</td>\n",
       "      <td>亲，5斤一包肠衣可以灌5斤左右肉，10斤装的可以灌8-10斤肉，根据个人手法会有所不同哦。</td>\n",
       "      <td>1</td>\n",
       "      <td>亲,5斤一包肠衣可以灌5斤左右肉,10斤装的可以灌8-10斤肉,根据个人手法会有所不同哦。</td>\n",
       "      <td>...</td>\n",
       "      <td>1</td>\n",
       "      <td>亲，5斤一包肠衣可以灌5斤左右肉，10斤装的可以灌8-10斤肉，根据个人手法会有所不同哦。</td>\n",
       "      <td>1</td>\n",
       "      <td>亲，5斤一包肠衣可以灌5斤左右肉，10斤装的可以灌8-10斤肉，根据个人手法会有所不同哦。</td>\n",
       "      <td>1</td>\n",
       "      <td>猪肠衣五斤一包4-5米左右，口径3.8-4.0左右，灌大约4斤肉 10斤一包8-10米左右，...</td>\n",
       "      <td>亲，5斤一包肠衣可以灌5斤左右肉，10斤装的可以灌8-10斤肉，根据个人手法会有所不同哦。</td>\n",
       "      <td>亲，5斤一包肠衣可以灌5斤左右肉,10斤装的可以灌8-10斤肉,根据个人手法会有所不同哦。</td>\n",
       "      <td>亲，5斤一包肠衣可以灌5斤左右肉，10斤装的可以灌8-10斤肉，根据个人手法会有所不同哦。</td>\n",
       "      <td>亲，5斤一包肠衣可以灌5斤左右肉,10斤装的可以灌8-10斤肉,根据个人手法会有所不同哦。</td>\n",
       "    </tr>\n",
       "  </tbody>\n",
       "</table>\n",
       "<p>1 rows × 29 columns</p>\n",
       "</div>"
      ],
      "text/plain": [
       "          q                                                que  kb_ids  \\\n",
       "0  一包肠依做多少肉  [{\"role\":\"assistant\",\"content\":\"很高兴为您服务,请问有什么可...  22, 23   \n",
       "\n",
       "                                           new_refer  \\\n",
       "0  ['问题：\"一包肠衣灌几斤肉啊\",答案：\"亲,5斤一包肠衣可以灌5斤左右肉,10斤装的可以灌...   \n",
       "\n",
       "                                  actual_send_answer  \\\n",
       "0  猪肠衣五斤一包4-5米左右,口径3.8-4.0左右,灌大约4斤肉 10斤一包8-10米左右,...   \n",
       "\n",
       "                                  qwl02-cleaned-base  \\\n",
       "0  亲，猪肠衣五斤一包4-5米左右，口径3.8-4.0左右，灌大约4斤肉；10斤一包8-10米左...   \n",
       "\n",
       "   qwl02-cleaned-base-gpt35                             qwl02-cleaned-chat  \\\n",
       "0                         1  亲，5斤一包肠衣可以灌5斤左右肉，10斤装的可以灌8-10斤肉，根据个人手法会有所不同哦。   \n",
       "\n",
       "   qwl02-cleaned-chat-gpt35                              qwl02-cleaneddoc3  \\\n",
       "0                         1  亲,5斤一包肠衣可以灌5斤左右肉,10斤装的可以灌8-10斤肉,根据个人手法会有所不同哦。   \n",
       "\n",
       "   ...  yil02-cleandoc-Chat-34B_gpt35  \\\n",
       "0  ...                              1   \n",
       "\n",
       "                                           qwl02  qwl02_gpt35  \\\n",
       "0  亲，5斤一包肠衣可以灌5斤左右肉，10斤装的可以灌8-10斤肉，根据个人手法会有所不同哦。            1   \n",
       "\n",
       "                      qwl02-cleaneddoc8-32b-base  \\\n",
       "0  亲，5斤一包肠衣可以灌5斤左右肉，10斤装的可以灌8-10斤肉，根据个人手法会有所不同哦。   \n",
       "\n",
       "   qwl02-cleaneddoc8-32b-base_gpt35  \\\n",
       "0                                 1   \n",
       "\n",
       "                      qwl02-cleaneddoc8-32b-base-new  \\\n",
       "0  猪肠衣五斤一包4-5米左右，口径3.8-4.0左右，灌大约4斤肉 10斤一包8-10米左右，...   \n",
       "\n",
       "                     qwl02-cleaneddoc13-32b-base  \\\n",
       "0  亲，5斤一包肠衣可以灌5斤左右肉，10斤装的可以灌8-10斤肉，根据个人手法会有所不同哦。   \n",
       "\n",
       "                     qwl02-cleaneddoc18-32b-base  \\\n",
       "0  亲，5斤一包肠衣可以灌5斤左右肉,10斤装的可以灌8-10斤肉,根据个人手法会有所不同哦。   \n",
       "\n",
       "             qwl02-cleaneddoc18-32b-base-cp12000  \\\n",
       "0  亲，5斤一包肠衣可以灌5斤左右肉，10斤装的可以灌8-10斤肉，根据个人手法会有所不同哦。   \n",
       "\n",
       "             qwl02-cleaneddoc18-32b-base-cp15000  \n",
       "0  亲，5斤一包肠衣可以灌5斤左右肉,10斤装的可以灌8-10斤肉,根据个人手法会有所不同哦。  \n",
       "\n",
       "[1 rows x 29 columns]"
      ]
     },
     "execution_count": 5,
     "metadata": {},
     "output_type": "execute_result"
    }
   ],
   "source": [
    "\n",
    "from infer import infer\n",
    "import torch\n",
    "\n",
    "model_path = '/data/lj/models/Qwen1.5-32B/qwl02-cleaneddoc18-32b-base-cp15000'\n",
    "\n",
    "model_name = model_path.split('/')[-1]\n",
    "# model_name ='yil02-cleandoc-Chat'\n",
    "result = infer(model_path,infer_data,None)\n",
    "assert len(infer_data) ==  len(result)\n",
    "infered_data[model_name] = result\n",
    "torch.cuda.empty_cache()\n",
    "\n",
    "\n",
    "save_path = datapath\n",
    "infered_data.to_csv(save_path,index=False)\n",
    "print('写入完毕')\n",
    "infered_data.head(1)"
   ]
  },
  {
   "cell_type": "code",
   "execution_count": 6,
   "metadata": {},
   "outputs": [
    {
     "name": "stderr",
     "output_type": "stream",
     "text": [
      "Special tokens have been added in the vocabulary, make sure the associated word embeddings are fine-tuned or trained.\n",
      "Special tokens have been added in the vocabulary, make sure the associated word embeddings are fine-tuned or trained.\n",
      "Loading checkpoint shards: 100%|██████████| 12/12 [00:26<00:00,  2.19s/it]\n",
      "  2%|▏         | 1/50 [00:06<05:21,  6.55s/it]"
     ]
    },
    {
     "name": "stdout",
     "output_type": "stream",
     "text": [
      "query: 一包肠依做多少肉 ai: 亲，5斤一包肠衣可以灌5斤左右肉,10斤装的可以灌8-10斤肉,根据个人手法会有所不同哦。 lable: 猪肠衣五斤一包4-5米左右,口径3.8-4.0左右,灌大约4斤肉 10斤一包8-10米左右,口径3.8-4.0左右,灌大约8-10斤肉。\n"
     ]
    },
    {
     "name": "stderr",
     "output_type": "stream",
     "text": [
      "  4%|▍         | 2/50 [00:10<03:47,  4.75s/it]"
     ]
    },
    {
     "name": "stdout",
     "output_type": "stream",
     "text": [
      "query: 好了不跟你计较可以多些都结了。 ai: 亲，确认收货以后联系我们帮您处理哈 lable: 你好 在的亲\n"
     ]
    },
    {
     "name": "stderr",
     "output_type": "stream",
     "text": [
      "  6%|▌         | 3/50 [00:13<03:05,  3.95s/it]"
     ]
    },
    {
     "name": "stdout",
     "output_type": "stream",
     "text": [
      "query: 还不发 ai: 亲亲，已经在陆续发货了，会尽快安排的哈 lable: 这边帮您催下\n"
     ]
    },
    {
     "name": "stderr",
     "output_type": "stream",
     "text": [
      "  8%|▊         | 4/50 [00:16<02:48,  3.67s/it]"
     ]
    },
    {
     "name": "stdout",
     "output_type": "stream",
     "text": [
      "query: 是一样一斤,还是两种搭配两斤 ai: 一样一斤亲 lable: 一样一斤亲\n"
     ]
    },
    {
     "name": "stderr",
     "output_type": "stream",
     "text": [
      " 10%|█         | 5/50 [00:19<02:44,  3.66s/it]"
     ]
    },
    {
     "name": "stdout",
     "output_type": "stream",
     "text": [
      "query: 等到什么时候一年么 ai: 亲 需要看仓库发货情况 lable: 什么\n"
     ]
    },
    {
     "name": "stderr",
     "output_type": "stream",
     "text": [
      " 12%|█▏        | 6/50 [00:24<02:53,  3.94s/it]"
     ]
    },
    {
     "name": "stdout",
     "output_type": "stream",
     "text": [
      "query: 除了巧克力不要,其它的都要 ai: 亲下单以后联系我们备注哈 lable: 原味,草莓,抹茶,芒果,香芋,椰奶\n"
     ]
    },
    {
     "name": "stderr",
     "output_type": "stream",
     "text": [
      " 14%|█▍        | 7/50 [00:29<03:01,  4.22s/it]"
     ]
    },
    {
     "name": "stdout",
     "output_type": "stream",
     "text": [
      "query: 草莓,芒果,抹茶,香芋,我要这几种口味各两包 ai: 好的已备注亲 lable: 好的已备注亲\n"
     ]
    },
    {
     "name": "stderr",
     "output_type": "stream",
     "text": [
      " 16%|█▌        | 8/50 [00:33<03:04,  4.40s/it]"
     ]
    },
    {
     "name": "stdout",
     "output_type": "stream",
     "text": [
      "query: 泡开了直接放冰箱吗？ ai: 亲亲,自制烧仙草可以放冰箱冷藏保存2-3天,不过建议是吃多少煮多少,保存时间太长影响口感。 lable: 自制烧仙草可以放冰箱冷藏保存2-3天,不过建议是吃多少煮多少,保存时间太长影响口感。\n"
     ]
    },
    {
     "name": "stderr",
     "output_type": "stream",
     "text": [
      " 18%|█▊        | 9/50 [00:36<02:39,  3.90s/it]"
     ]
    },
    {
     "name": "stdout",
     "output_type": "stream",
     "text": [
      "query: 是熟山药粉吗？ ai: 亲,我们的山药粉是熟山药粉哦~ lable: 冲泡即食的亲\n"
     ]
    },
    {
     "name": "stderr",
     "output_type": "stream",
     "text": [
      " 20%|██        | 10/50 [00:40<02:37,  3.93s/it]"
     ]
    },
    {
     "name": "stdout",
     "output_type": "stream",
     "text": [
      "query: 我已拍芒果味的请给我搭配上抹茶味的 ai: 亲，已备注哦~ lable: 亲 您拍的这个选项不支持指定备注\n"
     ]
    },
    {
     "name": "stderr",
     "output_type": "stream",
     "text": [
      " 22%|██▏       | 11/50 [00:44<02:35,  3.98s/it]"
     ]
    },
    {
     "name": "stdout",
     "output_type": "stream",
     "text": [
      "query: 为什么还让我拿5元呢 ai: 亲 我们已经支付了快递费 lable: 亲 这个不清楚的哦\n"
     ]
    },
    {
     "name": "stderr",
     "output_type": "stream",
     "text": [
      " 24%|██▍       | 12/50 [00:49<02:39,  4.21s/it]"
     ]
    },
    {
     "name": "stdout",
     "output_type": "stream",
     "text": [
      "query: 好吃吗？ ai: 亲亲，我们的燕麦片是很好吃的哦。 lable: 亲亲,每个口味不一样,您可以先尝试一下哦。\n"
     ]
    },
    {
     "name": "stderr",
     "output_type": "stream",
     "text": [
      " 26%|██▌       | 13/50 [00:54<02:40,  4.35s/it]"
     ]
    },
    {
     "name": "stdout",
     "output_type": "stream",
     "text": [
      "query: 颜色不需要自己调是吧 ai: 亲，是的，我们有各种颜色的选项，不需要自己调哦~ lable: 是的\n"
     ]
    },
    {
     "name": "stderr",
     "output_type": "stream",
     "text": [
      " 28%|██▊       | 14/50 [00:57<02:25,  4.05s/it]"
     ]
    },
    {
     "name": "stdout",
     "output_type": "stream",
     "text": [
      "query: 做完一直在冷藏放着吗,可以放几天 ai: 亲，一般建议当天食用哈 lable: 亲,做完后建议尽快食用哦\n"
     ]
    },
    {
     "name": "stderr",
     "output_type": "stream",
     "text": [
      " 30%|███       | 15/50 [01:01<02:19,  3.99s/it]"
     ]
    },
    {
     "name": "stdout",
     "output_type": "stream",
     "text": [
      "query: 点错了,怎么取消 ai: 亲，您可以在订单详情页面找到取消订单的选项哦~ lable: 亲,您可以在后台申请退款哦~\n"
     ]
    },
    {
     "name": "stderr",
     "output_type": "stream",
     "text": [
      " 32%|███▏      | 16/50 [01:05<02:17,  4.04s/it]"
     ]
    },
    {
     "name": "stdout",
     "output_type": "stream",
     "text": [
      "query: 年前买的肠衣怎么那么细,根本灌不上十斤肉,破损特别多 ai: 亲，我们的肠衣是天然肠衣，有些小破洞是难免的，但不会影响食用效果。 lable: 天然肠衣,不敢保证没有孔,因为是人工从猪肠子上剥离的,在剥离的过程中,难免会有破损的亲。\n"
     ]
    },
    {
     "name": "stderr",
     "output_type": "stream",
     "text": [
      " 34%|███▍      | 17/50 [01:13<02:48,  5.12s/it]"
     ]
    },
    {
     "name": "stdout",
     "output_type": "stream",
     "text": [
      "query: 两罐都是700g吗？ ai: 亲，两罐都是700g哦~ lable: 一罐350g的亲 二罐是700g\n"
     ]
    },
    {
     "name": "stderr",
     "output_type": "stream",
     "text": [
      " 36%|███▌      | 18/50 [01:20<03:06,  5.83s/it]"
     ]
    },
    {
     "name": "stdout",
     "output_type": "stream",
     "text": [
      "query: 你好这款肠衣灌完直接上锅蒸或煮都可以吗 ai: 亲，灌好后系绳子扎孔,风干或者蒸煮,根据个人口感哦。 lable: 罐好后系绳子扎孔,风干或者蒸煮,根据个人口感哦\"。\n"
     ]
    },
    {
     "name": "stderr",
     "output_type": "stream",
     "text": [
      " 38%|███▊      | 19/50 [01:26<02:57,  5.74s/it]"
     ]
    },
    {
     "name": "stdout",
     "output_type": "stream",
     "text": [
      "query: 人工好评返现？ ai: 如果说看到有评价有礼活动，那可能是官方活动，不是本店活动，可以按步骤要求提交试一下哦。 lable: 亲,本店都是薄利多销,没啥利润的,如果您签收以后还满意的话,麻烦给个五星好评鼓励一下哦。如果说看到有评价有礼活动,那可能是官方活动,不是本店活动,可以按照步骤要求提交试一下哦。\n"
     ]
    },
    {
     "name": "stderr",
     "output_type": "stream",
     "text": [
      " 40%|████      | 20/50 [01:37<03:40,  7.35s/it]"
     ]
    },
    {
     "name": "stdout",
     "output_type": "stream",
     "text": [
      "query: 这明显少的也太多了呀,人家一包里面至少有四五个,你这就两根肠子,你这不是欺骗消费者吗你？你这少的也太多了你量了一下,就两米多一点点,你那是大肠吗？能宽10斤肉 ai: 猪肠衣五斤一包4-5米左右,口径3.8-4.0左右,灌大约4斤肉 10斤一包8-10米左右,口径3.8-4.0左右,灌大约8-10斤肉。根据个人手法,会有误差,因为有人灌的紧,有人灌的肉松 lable: 亲,肠衣灌肉的量确实因人而异哦,我们肠衣一包能灌10斤肉左右,具体灌多少肉还需要看个人手法哦。\n"
     ]
    },
    {
     "name": "stderr",
     "output_type": "stream",
     "text": [
      " 42%|████▏     | 21/50 [01:45<03:39,  7.57s/it]"
     ]
    },
    {
     "name": "stdout",
     "output_type": "stream",
     "text": [
      "query: 请问在你家买的肠衣,整包没用完的怎么存放 ai: 亲,用水泡过的肠衣没用完可以用盐腌制起来,然后沥干水分,后食品袋包好放冰箱冷藏保鲜就可以了哦~ lable: 亲,用水泡过的肠衣没用完可以用盐腌制起来,然后沥干水分,后食品袋包好放冰箱冷藏保鲜就可以了亲,没泡过的直接冷藏保鲜就可以。\n"
     ]
    },
    {
     "name": "stderr",
     "output_type": "stream",
     "text": [
      " 44%|████▍     | 22/50 [01:52<03:24,  7.29s/it]"
     ]
    },
    {
     "name": "stdout",
     "output_type": "stream",
     "text": [
      "query: 不是说40斤给送嘛,这个选项不是相当于买的吗？都在你家买好几回了 ai: 亲,这个选项是20斤的,所以只能送20斤哦。 lable: 亲,只能看选项哦~\n"
     ]
    },
    {
     "name": "stderr",
     "output_type": "stream",
     "text": [
      " 46%|████▌     | 23/50 [02:02<03:38,  8.08s/it]"
     ]
    },
    {
     "name": "stdout",
     "output_type": "stream",
     "text": [
      "query: 是哪种包装呢？ ai: 亲，两种包装随机发出哈~ lable: 新老包装随机发的哈\n"
     ]
    },
    {
     "name": "stderr",
     "output_type": "stream",
     "text": [
      " 48%|████▊     | 24/50 [02:10<03:36,  8.32s/it]"
     ]
    },
    {
     "name": "stdout",
     "output_type": "stream",
     "text": [
      "query: 冷藏保鲜的意思是放在冰冻柜里面吗 ai: 亲，冷藏保鲜的意思是放在保鲜层一般就可以哈,不要冷冻,冷冻后会断的。 lable: 保鲜层一般就可以哈\n"
     ]
    },
    {
     "name": "stderr",
     "output_type": "stream",
     "text": [
      " 50%|█████     | 25/50 [02:27<04:32, 10.91s/it]"
     ]
    },
    {
     "name": "stdout",
     "output_type": "stream",
     "text": [
      "query: 这种肠衣可以灌淀粉肠吗 ai: 亲，肠衣主要是用来灌制香肠的哈。 lable: 可以的\n"
     ]
    },
    {
     "name": "stderr",
     "output_type": "stream",
     "text": [
      " 52%|█████▏    | 26/50 [02:38<04:21, 10.89s/it]"
     ]
    },
    {
     "name": "stdout",
     "output_type": "stream",
     "text": [
      "query: 羊肠衣用猪肠器灌可以吗 ai: 亲,灌肠器都是通用的,不同的是灌肠器的漏斗,羊肠衣漏斗小,猪肠衣漏斗大。 lable: 不能哦 亲\n"
     ]
    },
    {
     "name": "stderr",
     "output_type": "stream",
     "text": [
      " 54%|█████▍    | 27/50 [02:48<03:59, 10.42s/it]"
     ]
    },
    {
     "name": "stdout",
     "output_type": "stream",
     "text": [
      "query: 哪里发货啊 ai: 亲，我们是在山东枣庄发货的哦~ lable: 亲,我们发货地在山东枣庄哦。\n"
     ]
    },
    {
     "name": "stderr",
     "output_type": "stream",
     "text": [
      " 56%|█████▌    | 28/50 [03:05<04:33, 12.43s/it]"
     ]
    },
    {
     "name": "stdout",
     "output_type": "stream",
     "text": [
      "query: 有运费险吗 ai: 包邮退的哈 lable: 有的呢亲亲\n"
     ]
    },
    {
     "name": "stderr",
     "output_type": "stream",
     "text": [
      " 58%|█████▊    | 29/50 [03:16<04:11, 12.00s/it]"
     ]
    },
    {
     "name": "stdout",
     "output_type": "stream",
     "text": [
      "query: 羊肠衣用猪肠器灌可以吗 ai: 亲,灌肠器都是通用的,不同的是灌肠器的漏斗,羊肠衣漏斗小,猪肠衣漏斗大。 lable: 不能哦 亲\n"
     ]
    },
    {
     "name": "stderr",
     "output_type": "stream",
     "text": [
      " 60%|██████    | 30/50 [03:25<03:42, 11.12s/it]"
     ]
    },
    {
     "name": "stdout",
     "output_type": "stream",
     "text": [
      "query: 哪发货 ai: 亲，我们是在山东枣庄发货的哦~ lable: 亲,我们是山东枣庄发货哦~\n"
     ]
    },
    {
     "name": "stderr",
     "output_type": "stream",
     "text": [
      " 62%|██████▏   | 31/50 [03:43<04:09, 13.15s/it]"
     ]
    },
    {
     "name": "stdout",
     "output_type": "stream",
     "text": [
      "query: 肠衣都是一样的 ai: 是的,肠衣都是一样的,质量也是一样的哦。只是包装不同。 lable: 亲,肠衣都是一样滴,都是优质的天然肠衣呢~\n"
     ]
    },
    {
     "name": "stderr",
     "output_type": "stream",
     "text": [
      " 64%|██████▍   | 32/50 [03:54<03:47, 12.62s/it]"
     ]
    },
    {
     "name": "stdout",
     "output_type": "stream",
     "text": [
      "query: 亲,如何能查看我的拼单 ai: 订单详情看下哈 lable: 订单详情看下哈\n"
     ]
    },
    {
     "name": "stderr",
     "output_type": "stream",
     "text": [
      " 66%|██████▌   | 33/50 [04:10<03:52, 13.68s/it]"
     ]
    },
    {
     "name": "stdout",
     "output_type": "stream",
     "text": [
      "query: 给孩子做蒸好冻起来煎吃的那种用什么 ai: 亲，给孩子做蒸好冻起来煎吃的那种用猪肠衣比较好哦~ lable: 亲亲,建议用猪肠衣哦,口感好,而且容易操作呢~\n"
     ]
    },
    {
     "name": "stderr",
     "output_type": "stream",
     "text": [
      " 68%|██████▊   | 34/50 [04:18<03:12, 12.04s/it]"
     ]
    },
    {
     "name": "stdout",
     "output_type": "stream",
     "text": [
      "query: 哪里发货 ai: 亲亲,我们是在山东枣庄发货的哦。 lable: 亲,山东枣庄发货\n"
     ]
    },
    {
     "name": "stderr",
     "output_type": "stream",
     "text": [
      " 70%|███████   | 35/50 [04:35<03:21, 13.41s/it]"
     ]
    },
    {
     "name": "stdout",
     "output_type": "stream",
     "text": [
      "query: 香芋两斤,芒果3斤,草莓3斤,抹茶3斤,牛奶5斤,共16斤 ai: 亲 您的两个订单分别需要什么口味 具体发下可以吗 lable: 亲 您的两个订单分别需要什么口味 具体发下可以吗\n"
     ]
    },
    {
     "name": "stderr",
     "output_type": "stream",
     "text": [
      " 72%|███████▏  | 36/50 [04:42<02:41, 11.54s/it]"
     ]
    },
    {
     "name": "stdout",
     "output_type": "stream",
     "text": [
      "query: 太甜了能加多点牛奶的吗 ai: 亲亲,可以适量加一些牛奶哦~ lable: 可以适量加一些牛奶哦~\n"
     ]
    },
    {
     "name": "stderr",
     "output_type": "stream",
     "text": [
      " 74%|███████▍  | 37/50 [04:49<02:12, 10.20s/it]"
     ]
    },
    {
     "name": "stdout",
     "output_type": "stream",
     "text": [
      "query: 是什么玻璃瓶装？ ai: 亲亲,什么玻璃瓶装？亲亲,正常就是塑料灌装的哈~ lable: 参考评论区\n"
     ]
    },
    {
     "name": "stderr",
     "output_type": "stream",
     "text": [
      " 76%|███████▌  | 38/50 [04:58<01:58,  9.84s/it]"
     ]
    },
    {
     "name": "stdout",
     "output_type": "stream",
     "text": [
      "query: 产地是那里 ai: 亲,我们的产地是山东枣庄哦。 lable: 山东枣庄发货的亲\n"
     ]
    },
    {
     "name": "stderr",
     "output_type": "stream",
     "text": [
      " 78%|███████▊  | 39/50 [05:05<01:39,  9.08s/it]"
     ]
    },
    {
     "name": "stdout",
     "output_type": "stream",
     "text": [
      "query: 凉水能冲泡开吗？ ai: 建议开水哦~ lable: 建议开水\n"
     ]
    },
    {
     "name": "stderr",
     "output_type": "stream",
     "text": [
      " 80%|████████  | 40/50 [05:18<01:41, 10.20s/it]"
     ]
    },
    {
     "name": "stdout",
     "output_type": "stream",
     "text": [
      "query: 那我备注一下 ai: 亲下单以后联系我们备注哈 lable: 您只能试下哈\n"
     ]
    },
    {
     "name": "stderr",
     "output_type": "stream",
     "text": [
      " 82%|████████▏ | 41/50 [05:32<01:39, 11.11s/it]"
     ]
    },
    {
     "name": "stdout",
     "output_type": "stream",
     "text": [
      "query: 为什么大多数科学家在19世纪70年代就接受了进化论的有效性，却认为自然选择只是进化论的一小部分？ ai: 他们认为进化是有目的的和进步的 lable: 他们认为进化是有目的的和进步的\n"
     ]
    },
    {
     "name": "stderr",
     "output_type": "stream",
     "text": [
      " 84%|████████▍ | 42/50 [05:42<01:27, 10.96s/it]"
     ]
    },
    {
     "name": "stdout",
     "output_type": "stream",
     "text": [
      "query: 随着年龄增长，人的睡眠的趋势如何？？ ai: 人岁数越大，需要的睡眠越少 lable: 丹尼尔博士更是发现了“人岁数越大，需要的睡眠越少”这样的规律\n"
     ]
    },
    {
     "name": "stderr",
     "output_type": "stream",
     "text": [
      " 86%|████████▌ | 43/50 [05:54<01:18, 11.20s/it]"
     ]
    },
    {
     "name": "stdout",
     "output_type": "stream",
     "text": [
      "query: 杨x10向11x0借的钱还款期限是什么时候？ ai: 2012年11月3日前还清 lable: 2012年11月3日\n"
     ]
    },
    {
     "name": "stderr",
     "output_type": "stream",
     "text": [
      " 88%|████████▊ | 44/50 [06:06<01:08, 11.42s/it]"
     ]
    },
    {
     "name": "stdout",
     "output_type": "stream",
     "text": [
      "query: 加拿大研制的“斯瑞克”轮式装甲运输车最大公路行驶速度每小时是多少公里？。 ai: 最大公路行驶速度每小时97公里 lable: 最大公路行驶速度每小时97公里\n"
     ]
    },
    {
     "name": "stderr",
     "output_type": "stream",
     "text": [
      " 90%|█████████ | 45/50 [06:15<00:54, 10.88s/it]"
     ]
    },
    {
     "name": "stdout",
     "output_type": "stream",
     "text": [
      "query: 《气候公约》还要求气专委开展哪些活动？ ai: 数据分发中心和国家温室气体清单方案 lable: 数据分发中心和国家温室气体清单方案\n"
     ]
    },
    {
     "name": "stderr",
     "output_type": "stream",
     "text": [
      " 92%|█████████▏| 46/50 [06:26<00:43, 10.76s/it]"
     ]
    },
    {
     "name": "stdout",
     "output_type": "stream",
     "text": [
      "query: 鲍威尔在哪个委员会面前作证？ ai: 参议院外交关系委员会 lable: 参议院外交关系委员会\n"
     ]
    },
    {
     "name": "stderr",
     "output_type": "stream",
     "text": [
      " 94%|█████████▍| 47/50 [06:35<00:30, 10.21s/it]"
     ]
    },
    {
     "name": "stdout",
     "output_type": "stream",
     "text": [
      "query: 休斯顿有什么样的政府？ ai: 强有力的市长制市政府 lable: 强有力的市长制市政府\n"
     ]
    },
    {
     "name": "stderr",
     "output_type": "stream",
     "text": [
      " 96%|█████████▌| 48/50 [06:44<00:19,  9.74s/it]"
     ]
    },
    {
     "name": "stdout",
     "output_type": "stream",
     "text": [
      "query: 054A搭载的垂直发射防空导弹是哪个型号？该型舰造价多少？。 ai: 红旗-16中程防空导弹 lable: 防空导弹是中国在2000年代开发的红旗-16中程\n"
     ]
    },
    {
     "name": "stderr",
     "output_type": "stream",
     "text": [
      " 98%|█████████▊| 49/50 [06:58<00:11, 11.05s/it]"
     ]
    },
    {
     "name": "stdout",
     "output_type": "stream",
     "text": [
      "query: 台湾北部第二个直辖市于什么时候产生？ ai: 中华民国99年12月25日 lable: 中华民国99年12月25日\n"
     ]
    },
    {
     "name": "stderr",
     "output_type": "stream",
     "text": [
      "100%|██████████| 50/50 [07:05<00:00,  8.52s/it]"
     ]
    },
    {
     "name": "stdout",
     "output_type": "stream",
     "text": [
      "query: iphone4什么时候出的 ai: 2010年6月8日凌晨1点 lable: 2010年6月8日凌晨1点\n",
      "done\n",
      "写入完毕\n"
     ]
    },
    {
     "name": "stderr",
     "output_type": "stream",
     "text": [
      "\n"
     ]
    },
    {
     "data": {
      "text/html": [
       "<div>\n",
       "<style scoped>\n",
       "    .dataframe tbody tr th:only-of-type {\n",
       "        vertical-align: middle;\n",
       "    }\n",
       "\n",
       "    .dataframe tbody tr th {\n",
       "        vertical-align: top;\n",
       "    }\n",
       "\n",
       "    .dataframe thead th {\n",
       "        text-align: right;\n",
       "    }\n",
       "</style>\n",
       "<table border=\"1\" class=\"dataframe\">\n",
       "  <thead>\n",
       "    <tr style=\"text-align: right;\">\n",
       "      <th></th>\n",
       "      <th>q</th>\n",
       "      <th>que</th>\n",
       "      <th>kb_ids</th>\n",
       "      <th>new_refer</th>\n",
       "      <th>actual_send_answer</th>\n",
       "      <th>qwl02-cleaned-base</th>\n",
       "      <th>qwl02-cleaned-base-gpt35</th>\n",
       "      <th>qwl02-cleaned-chat</th>\n",
       "      <th>qwl02-cleaned-chat-gpt35</th>\n",
       "      <th>qwl02-cleaneddoc3</th>\n",
       "      <th>...</th>\n",
       "      <th>qwl02</th>\n",
       "      <th>qwl02_gpt35</th>\n",
       "      <th>qwl02-cleaneddoc8-32b-base</th>\n",
       "      <th>qwl02-cleaneddoc8-32b-base_gpt35</th>\n",
       "      <th>qwl02-cleaneddoc8-32b-base-new</th>\n",
       "      <th>qwl02-cleaneddoc13-32b-base</th>\n",
       "      <th>qwl02-cleaneddoc18-32b-base</th>\n",
       "      <th>qwl02-cleaneddoc18-32b-base-cp12000</th>\n",
       "      <th>qwl02-cleaneddoc18-32b-base-cp15000</th>\n",
       "      <th>qwl02-cleaneddoc18-32b-base-cp18000</th>\n",
       "    </tr>\n",
       "  </thead>\n",
       "  <tbody>\n",
       "    <tr>\n",
       "      <th>0</th>\n",
       "      <td>一包肠依做多少肉</td>\n",
       "      <td>[{\"role\":\"assistant\",\"content\":\"很高兴为您服务,请问有什么可...</td>\n",
       "      <td>22, 23</td>\n",
       "      <td>['问题：\"一包肠衣灌几斤肉啊\",答案：\"亲,5斤一包肠衣可以灌5斤左右肉,10斤装的可以灌...</td>\n",
       "      <td>猪肠衣五斤一包4-5米左右,口径3.8-4.0左右,灌大约4斤肉 10斤一包8-10米左右,...</td>\n",
       "      <td>亲，猪肠衣五斤一包4-5米左右，口径3.8-4.0左右，灌大约4斤肉；10斤一包8-10米左...</td>\n",
       "      <td>1</td>\n",
       "      <td>亲，5斤一包肠衣可以灌5斤左右肉，10斤装的可以灌8-10斤肉，根据个人手法会有所不同哦。</td>\n",
       "      <td>1</td>\n",
       "      <td>亲,5斤一包肠衣可以灌5斤左右肉,10斤装的可以灌8-10斤肉,根据个人手法会有所不同哦。</td>\n",
       "      <td>...</td>\n",
       "      <td>亲，5斤一包肠衣可以灌5斤左右肉，10斤装的可以灌8-10斤肉，根据个人手法会有所不同哦。</td>\n",
       "      <td>1</td>\n",
       "      <td>亲，5斤一包肠衣可以灌5斤左右肉，10斤装的可以灌8-10斤肉，根据个人手法会有所不同哦。</td>\n",
       "      <td>1</td>\n",
       "      <td>猪肠衣五斤一包4-5米左右，口径3.8-4.0左右，灌大约4斤肉 10斤一包8-10米左右，...</td>\n",
       "      <td>亲，5斤一包肠衣可以灌5斤左右肉，10斤装的可以灌8-10斤肉，根据个人手法会有所不同哦。</td>\n",
       "      <td>亲，5斤一包肠衣可以灌5斤左右肉,10斤装的可以灌8-10斤肉,根据个人手法会有所不同哦。</td>\n",
       "      <td>亲，5斤一包肠衣可以灌5斤左右肉，10斤装的可以灌8-10斤肉，根据个人手法会有所不同哦。</td>\n",
       "      <td>亲，5斤一包肠衣可以灌5斤左右肉,10斤装的可以灌8-10斤肉,根据个人手法会有所不同哦。</td>\n",
       "      <td>亲，5斤一包肠衣可以灌5斤左右肉,10斤装的可以灌8-10斤肉,根据个人手法会有所不同哦。</td>\n",
       "    </tr>\n",
       "  </tbody>\n",
       "</table>\n",
       "<p>1 rows × 30 columns</p>\n",
       "</div>"
      ],
      "text/plain": [
       "          q                                                que  kb_ids  \\\n",
       "0  一包肠依做多少肉  [{\"role\":\"assistant\",\"content\":\"很高兴为您服务,请问有什么可...  22, 23   \n",
       "\n",
       "                                           new_refer  \\\n",
       "0  ['问题：\"一包肠衣灌几斤肉啊\",答案：\"亲,5斤一包肠衣可以灌5斤左右肉,10斤装的可以灌...   \n",
       "\n",
       "                                  actual_send_answer  \\\n",
       "0  猪肠衣五斤一包4-5米左右,口径3.8-4.0左右,灌大约4斤肉 10斤一包8-10米左右,...   \n",
       "\n",
       "                                  qwl02-cleaned-base  \\\n",
       "0  亲，猪肠衣五斤一包4-5米左右，口径3.8-4.0左右，灌大约4斤肉；10斤一包8-10米左...   \n",
       "\n",
       "   qwl02-cleaned-base-gpt35                             qwl02-cleaned-chat  \\\n",
       "0                         1  亲，5斤一包肠衣可以灌5斤左右肉，10斤装的可以灌8-10斤肉，根据个人手法会有所不同哦。   \n",
       "\n",
       "   qwl02-cleaned-chat-gpt35                              qwl02-cleaneddoc3  \\\n",
       "0                         1  亲,5斤一包肠衣可以灌5斤左右肉,10斤装的可以灌8-10斤肉,根据个人手法会有所不同哦。   \n",
       "\n",
       "   ...                                          qwl02 qwl02_gpt35  \\\n",
       "0  ...  亲，5斤一包肠衣可以灌5斤左右肉，10斤装的可以灌8-10斤肉，根据个人手法会有所不同哦。           1   \n",
       "\n",
       "                      qwl02-cleaneddoc8-32b-base  \\\n",
       "0  亲，5斤一包肠衣可以灌5斤左右肉，10斤装的可以灌8-10斤肉，根据个人手法会有所不同哦。   \n",
       "\n",
       "  qwl02-cleaneddoc8-32b-base_gpt35  \\\n",
       "0                                1   \n",
       "\n",
       "                      qwl02-cleaneddoc8-32b-base-new  \\\n",
       "0  猪肠衣五斤一包4-5米左右，口径3.8-4.0左右，灌大约4斤肉 10斤一包8-10米左右，...   \n",
       "\n",
       "                     qwl02-cleaneddoc13-32b-base  \\\n",
       "0  亲，5斤一包肠衣可以灌5斤左右肉，10斤装的可以灌8-10斤肉，根据个人手法会有所不同哦。   \n",
       "\n",
       "                     qwl02-cleaneddoc18-32b-base  \\\n",
       "0  亲，5斤一包肠衣可以灌5斤左右肉,10斤装的可以灌8-10斤肉,根据个人手法会有所不同哦。   \n",
       "\n",
       "             qwl02-cleaneddoc18-32b-base-cp12000  \\\n",
       "0  亲，5斤一包肠衣可以灌5斤左右肉，10斤装的可以灌8-10斤肉，根据个人手法会有所不同哦。   \n",
       "\n",
       "             qwl02-cleaneddoc18-32b-base-cp15000  \\\n",
       "0  亲，5斤一包肠衣可以灌5斤左右肉,10斤装的可以灌8-10斤肉,根据个人手法会有所不同哦。   \n",
       "\n",
       "             qwl02-cleaneddoc18-32b-base-cp18000  \n",
       "0  亲，5斤一包肠衣可以灌5斤左右肉,10斤装的可以灌8-10斤肉,根据个人手法会有所不同哦。  \n",
       "\n",
       "[1 rows x 30 columns]"
      ]
     },
     "execution_count": 6,
     "metadata": {},
     "output_type": "execute_result"
    }
   ],
   "source": [
    "\n",
    "from infer import infer\n",
    "import torch\n",
    "\n",
    "model_path = '/data/lj/models/Qwen1.5-32B/qwl02-cleaneddoc18-32b-base-cp18000'\n",
    "\n",
    "model_name = model_path.split('/')[-1]\n",
    "# model_name ='yil02-cleandoc-Chat'\n",
    "result = infer(model_path,infer_data,None)\n",
    "assert len(infer_data) ==  len(result)\n",
    "infered_data[model_name] = result\n",
    "torch.cuda.empty_cache()\n",
    "\n",
    "\n",
    "save_path = datapath\n",
    "infered_data.to_csv(save_path,index=False)\n",
    "print('写入完毕')\n",
    "infered_data.head(1)"
   ]
  }
 ],
 "metadata": {
  "kernelspec": {
   "display_name": "lf",
   "language": "python",
   "name": "python3"
  },
  "language_info": {
   "codemirror_mode": {
    "name": "ipython",
    "version": 3
   },
   "file_extension": ".py",
   "mimetype": "text/x-python",
   "name": "python",
   "nbconvert_exporter": "python",
   "pygments_lexer": "ipython3",
   "version": "3.10.13"
  }
 },
 "nbformat": 4,
 "nbformat_minor": 2
}
